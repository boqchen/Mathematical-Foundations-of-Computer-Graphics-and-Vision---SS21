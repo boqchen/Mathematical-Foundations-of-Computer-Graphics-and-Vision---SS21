{
  "nbformat": 4,
  "nbformat_minor": 0,
  "metadata": {
    "colab": {
      "name": "MCGV_HW_1.ipynb",
      "provenance": [],
      "collapsed_sections": [],
      "authorship_tag": "ABX9TyM2gGMyjAO+Xf1cjnBydwCa",
      "include_colab_link": true
    },
    "kernelspec": {
      "name": "python3",
      "display_name": "Python 3"
    },
    "widgets": {
      "application/vnd.jupyter.widget-state+json": {
        "e20bc4a01c2446208b4bf9af21fb4f51": {
          "model_module": "@jupyter-widgets/controls",
          "model_name": "HBoxModel",
          "state": {
            "_view_name": "HBoxView",
            "_dom_classes": [],
            "_model_name": "HBoxModel",
            "_view_module": "@jupyter-widgets/controls",
            "_model_module_version": "1.5.0",
            "_view_count": null,
            "_view_module_version": "1.5.0",
            "box_style": "",
            "layout": "IPY_MODEL_e6148e676ef84a0589473491a1576305",
            "_model_module": "@jupyter-widgets/controls",
            "children": [
              "IPY_MODEL_2c9edc54e2764328a9750136516692a2",
              "IPY_MODEL_a06caa13a9c44abbba6febebac3061b8"
            ]
          }
        },
        "e6148e676ef84a0589473491a1576305": {
          "model_module": "@jupyter-widgets/base",
          "model_name": "LayoutModel",
          "state": {
            "_view_name": "LayoutView",
            "grid_template_rows": null,
            "right": null,
            "justify_content": null,
            "_view_module": "@jupyter-widgets/base",
            "overflow": null,
            "_model_module_version": "1.2.0",
            "_view_count": null,
            "flex_flow": null,
            "width": null,
            "min_width": null,
            "border": null,
            "align_items": null,
            "bottom": null,
            "_model_module": "@jupyter-widgets/base",
            "top": null,
            "grid_column": null,
            "overflow_y": null,
            "overflow_x": null,
            "grid_auto_flow": null,
            "grid_area": null,
            "grid_template_columns": null,
            "flex": null,
            "_model_name": "LayoutModel",
            "justify_items": null,
            "grid_row": null,
            "max_height": null,
            "align_content": null,
            "visibility": null,
            "align_self": null,
            "height": null,
            "min_height": null,
            "padding": null,
            "grid_auto_rows": null,
            "grid_gap": null,
            "max_width": null,
            "order": null,
            "_view_module_version": "1.2.0",
            "grid_template_areas": null,
            "object_position": null,
            "object_fit": null,
            "grid_auto_columns": null,
            "margin": null,
            "display": null,
            "left": null
          }
        },
        "2c9edc54e2764328a9750136516692a2": {
          "model_module": "@jupyter-widgets/controls",
          "model_name": "FloatProgressModel",
          "state": {
            "_view_name": "ProgressView",
            "style": "IPY_MODEL_1137f3b526384f639e20608ce72e41c5",
            "_dom_classes": [],
            "description": "100%",
            "_model_name": "FloatProgressModel",
            "bar_style": "success",
            "max": 1000,
            "_view_module": "@jupyter-widgets/controls",
            "_model_module_version": "1.5.0",
            "value": 1000,
            "_view_count": null,
            "_view_module_version": "1.5.0",
            "orientation": "horizontal",
            "min": 0,
            "description_tooltip": null,
            "_model_module": "@jupyter-widgets/controls",
            "layout": "IPY_MODEL_1512e6bf21cf4a789985509b31a681e4"
          }
        },
        "a06caa13a9c44abbba6febebac3061b8": {
          "model_module": "@jupyter-widgets/controls",
          "model_name": "HTMLModel",
          "state": {
            "_view_name": "HTMLView",
            "style": "IPY_MODEL_6c02426389c64d7ea79ee06f448668b5",
            "_dom_classes": [],
            "description": "",
            "_model_name": "HTMLModel",
            "placeholder": "​",
            "_view_module": "@jupyter-widgets/controls",
            "_model_module_version": "1.5.0",
            "value": " 1000/1000 [01:10&lt;00:00, 14.13it/s]",
            "_view_count": null,
            "_view_module_version": "1.5.0",
            "description_tooltip": null,
            "_model_module": "@jupyter-widgets/controls",
            "layout": "IPY_MODEL_37eb2431e52146559beec600ebb5c6c2"
          }
        },
        "1137f3b526384f639e20608ce72e41c5": {
          "model_module": "@jupyter-widgets/controls",
          "model_name": "ProgressStyleModel",
          "state": {
            "_view_name": "StyleView",
            "_model_name": "ProgressStyleModel",
            "description_width": "initial",
            "_view_module": "@jupyter-widgets/base",
            "_model_module_version": "1.5.0",
            "_view_count": null,
            "_view_module_version": "1.2.0",
            "bar_color": null,
            "_model_module": "@jupyter-widgets/controls"
          }
        },
        "1512e6bf21cf4a789985509b31a681e4": {
          "model_module": "@jupyter-widgets/base",
          "model_name": "LayoutModel",
          "state": {
            "_view_name": "LayoutView",
            "grid_template_rows": null,
            "right": null,
            "justify_content": null,
            "_view_module": "@jupyter-widgets/base",
            "overflow": null,
            "_model_module_version": "1.2.0",
            "_view_count": null,
            "flex_flow": null,
            "width": null,
            "min_width": null,
            "border": null,
            "align_items": null,
            "bottom": null,
            "_model_module": "@jupyter-widgets/base",
            "top": null,
            "grid_column": null,
            "overflow_y": null,
            "overflow_x": null,
            "grid_auto_flow": null,
            "grid_area": null,
            "grid_template_columns": null,
            "flex": null,
            "_model_name": "LayoutModel",
            "justify_items": null,
            "grid_row": null,
            "max_height": null,
            "align_content": null,
            "visibility": null,
            "align_self": null,
            "height": null,
            "min_height": null,
            "padding": null,
            "grid_auto_rows": null,
            "grid_gap": null,
            "max_width": null,
            "order": null,
            "_view_module_version": "1.2.0",
            "grid_template_areas": null,
            "object_position": null,
            "object_fit": null,
            "grid_auto_columns": null,
            "margin": null,
            "display": null,
            "left": null
          }
        },
        "6c02426389c64d7ea79ee06f448668b5": {
          "model_module": "@jupyter-widgets/controls",
          "model_name": "DescriptionStyleModel",
          "state": {
            "_view_name": "StyleView",
            "_model_name": "DescriptionStyleModel",
            "description_width": "",
            "_view_module": "@jupyter-widgets/base",
            "_model_module_version": "1.5.0",
            "_view_count": null,
            "_view_module_version": "1.2.0",
            "_model_module": "@jupyter-widgets/controls"
          }
        },
        "37eb2431e52146559beec600ebb5c6c2": {
          "model_module": "@jupyter-widgets/base",
          "model_name": "LayoutModel",
          "state": {
            "_view_name": "LayoutView",
            "grid_template_rows": null,
            "right": null,
            "justify_content": null,
            "_view_module": "@jupyter-widgets/base",
            "overflow": null,
            "_model_module_version": "1.2.0",
            "_view_count": null,
            "flex_flow": null,
            "width": null,
            "min_width": null,
            "border": null,
            "align_items": null,
            "bottom": null,
            "_model_module": "@jupyter-widgets/base",
            "top": null,
            "grid_column": null,
            "overflow_y": null,
            "overflow_x": null,
            "grid_auto_flow": null,
            "grid_area": null,
            "grid_template_columns": null,
            "flex": null,
            "_model_name": "LayoutModel",
            "justify_items": null,
            "grid_row": null,
            "max_height": null,
            "align_content": null,
            "visibility": null,
            "align_self": null,
            "height": null,
            "min_height": null,
            "padding": null,
            "grid_auto_rows": null,
            "grid_gap": null,
            "max_width": null,
            "order": null,
            "_view_module_version": "1.2.0",
            "grid_template_areas": null,
            "object_position": null,
            "object_fit": null,
            "grid_auto_columns": null,
            "margin": null,
            "display": null,
            "left": null
          }
        }
      }
    }
  },
  "cells": [
    {
      "cell_type": "markdown",
      "metadata": {
        "id": "view-in-github",
        "colab_type": "text"
      },
      "source": [
        "<a href=\"https://colab.research.google.com/github/boqchen/Mathematical-Foundations-of-Computer-Graphics-and-Vision---SS21/blob/main/MCGV_HW_1.ipynb\" target=\"_parent\"><img src=\"https://colab.research.google.com/assets/colab-badge.svg\" alt=\"Open In Colab\"/></a>"
      ]
    },
    {
      "cell_type": "markdown",
      "metadata": {
        "id": "XFD9sUUywidA"
      },
      "source": [
        "**MATHEMATICAL FOUNDATIONS OF COMPUTER GRAPHICS AND VISION**\n",
        " \n",
        "EXERCISE 1 - ROBUST ESTIMATION AND OPTIMIZATION\n",
        " \n",
        "Boqi Chen (20-953-048)"
      ]
    },
    {
      "cell_type": "markdown",
      "metadata": {
        "id": "8BYrHqSCxBAX"
      },
      "source": [
        "**1. RANSAC FOR CIRCLE FITTING**"
      ]
    },
    {
      "cell_type": "code",
      "metadata": {
        "id": "BHfKFVkqA5EU"
      },
      "source": [
        "import numpy as np\n",
        "import random\n",
        "import matplotlib.pyplot as plt\n",
        "import math\n",
        "from scipy.linalg import null_space\n",
        "from itertools import combinations\n",
        "from datetime import datetime\n",
        "import time\n",
        "from scipy.optimize import linprog\n"
      ],
      "execution_count": 1,
      "outputs": []
    },
    {
      "cell_type": "markdown",
      "metadata": {
        "id": "r94ZgcGO7c5g"
      },
      "source": [
        "The function *generate_circle_data_points* takes the model parameters, i.e., center coordinates and radius, outlier ratio, inlier distance threshold $\\tau$ (by default $\\tau=0.1$ in this exercise) and number of sample points (by default $N=100$ in this exercise) as arguments and returns the coordiantes of sampling data points including inliers and outliers. The points are generated according to polar coordinates, $$(x,y)=(r\\cos\\theta+x_c, r\\sin\\theta+y_c)$$ where $r$ and $(x_c, y_c)$ is the radius and center of the circle and $\\theta$ is the angle bewteen the vector $(x-x_c,y-y_c)$ and $(x,0)$. To generate inliers, $\\theta$ is randomly sampled in the range of $[0, 2\\pi]$. Also, random noise in the range of $[-1,1]$ is added to the radius. Thus, the coordinates of inliers are, $$(x,y)=((r+n)\\cos\\theta+x_c, (r+n)\\sin\\theta+y_c)$$ where n is therandom noise in the range of $[-1,1]$. To generate outliers, the points are firstly randomly sampled in the domain $[-10, 10]\\times[-10, 10]$ and then verified such that the distance between the sampled points and the circle $$\\vert\\sqrt{(x-x_c)^2+(y-y_c)^2}-r\\vert>\\tau$$ where $\\tau$ is the inlier distance threshold. After successfully generating the inliers and outliers, the data matrix is shuffled.\n",
        "\n",
        "\n",
        "\n",
        "\n",
        "\n",
        "\n"
      ]
    },
    {
      "cell_type": "code",
      "metadata": {
        "id": "jtjKIt_WDSdN"
      },
      "source": [
        "def generate_circle_data_points(x_c=None, y_c=None, radius=None, outlier_ratio=None, tau=0.1, N=100):\n",
        "    # (x_c, y_c) is the center of the circle and radius is the radius of the circle\n",
        "    # outlier_ratio: the ratio of outliers, i.e. points that don’t follow the “circle” rule at all\n",
        "    # tau: the inlier distance threshold, in this exercise tau = 0.1\n",
        "    # N: number of points, in this exercise N=100  \n",
        "    \n",
        "    inlier_ratio = 1 - outlier_ratio\n",
        "    n_outliers = int(N * outlier_ratio)\n",
        "    n_inliers = int(N * inlier_ratio)\n",
        "\n",
        "    # add random noise to radius between -0.1 to 0.1\n",
        "    noise_range = 0.1 \n",
        "    noise = (2 * noise_range) * np.random.rand(1, n_inliers) - noise_range\n",
        "    r = radius + noise\n",
        "\n",
        "    # generate inliers  \n",
        "    theta = np.random.rand(1, n_inliers) * 2 * math.pi\n",
        "    x_in = r * np.cos(theta) + x_c\n",
        "    y_in = r * np.sin(theta) + y_c\n",
        "\n",
        "    # generate outliers\n",
        "    x_out = np.zeros((1, n_outliers))\n",
        "    y_out = np.zeros((1, n_outliers))\n",
        "\n",
        "    domain_upper_bound = 10\n",
        "    domain_lower_bound = -10\n",
        "\n",
        "    i = 0\n",
        "    while i < n_outliers:\n",
        "      x_temp = (domain_upper_bound - domain_lower_bound) * random.uniform(0, 1) + domain_lower_bound\n",
        "      y_temp = (domain_upper_bound - domain_lower_bound) * random.uniform(0, 1) + domain_lower_bound\n",
        "      \n",
        "      distance = abs(math.sqrt((x_temp - x_c) ** 2 + (y_temp - y_c) ** 2) - radius)\n",
        "\n",
        "      # verify if created point is truly outlier\n",
        "      if distance > tau:\n",
        "        x_out[0][i] = x_temp\n",
        "        y_out[0][i] = y_temp\n",
        "        i = i+1\n",
        "\n",
        "    x = np.hstack((x_in, x_out))\n",
        "    y = np.hstack((y_in, y_out))\n",
        "    indices = np.array(list(range(len(x))))\n",
        "    random.shuffle(indices)\n",
        "    x = x[indices]\n",
        "    y = y[indices]\n",
        "    data = np.vstack((x,y))\n",
        "    \n",
        "    return data"
      ],
      "execution_count": null,
      "outputs": []
    },
    {
      "cell_type": "markdown",
      "metadata": {
        "id": "jG-UpSYS8wNa"
      },
      "source": [
        "The function *circle_fit* fits three sample points to a circle $$a(x^2+y^2)+bx+cy+1=0$$ where $(x,y)$ is the coordinates of the sample point. \n",
        "\n",
        "Writing in homogeneous form, we have $$\n",
        "\\left [\n",
        "\\begin{matrix}\n",
        "x_1^2+y_1^2 & x_1 & y_1 & 1 \\\\\n",
        "x_2^2+y_2^2 & x_2 & y_2 & 1 \\\\\n",
        "x_2^3+y_2^3 & x_3 & y_3 & 1\n",
        "\\end{matrix}\n",
        "\\right ]\\left [\n",
        "\\begin{matrix}\n",
        "a \\\\ b \\\\c \\\\1\n",
        "\\end{matrix}\n",
        "\\right ] = 0\n",
        "$$ where the right matrix is the null space of the left matrix. Thus, the parameters of the fitted circle is give by $$(x_c,y_c)=(-\\frac{b}{2a},-\\frac{c}{2a})\\\\r=\\frac{\\sqrt{b^2+c^2-4a}}{2a}$$. "
      ]
    },
    {
      "cell_type": "code",
      "metadata": {
        "id": "JnNpP9Pe7aj2"
      },
      "source": [
        "def circle_fit(point_1=None, point_2=None, point_3=None):\n",
        "\n",
        "    # circle model: a(x2 + y2) + bx + cy + 1 = 0\n",
        "    # homogenous equation: Ax = 0 for 3 points\n",
        "\n",
        "    x_1 = point_1[0]\n",
        "    y_1 = point_1[1]\n",
        "\n",
        "    x_2 = point_2[0]\n",
        "    y_2 = point_2[1]\n",
        "\n",
        "    x_3 = point_3[0]\n",
        "    y_3 = point_3[1]\n",
        "\n",
        "\n",
        "    A=np.array([\n",
        "                [x_1**2+y_1**2, x_1, y_1, 1],\n",
        "                [x_2**2+y_2**2, x_2, y_2, 1],\n",
        "                [x_3**2+y_3**2, x_3, y_3, 1]\n",
        "    ])\n",
        "\n",
        "\n",
        "    ns = null_space(A)\n",
        "\n",
        "    coefficient = ns/ns[-1][-1] # normalize s.t. homogeneous form\n",
        "   \n",
        "    a = coefficient[0][0]\n",
        "    b = coefficient[1][0]\n",
        "    c = coefficient[2][0]\n",
        "\n",
        "    if a == 0:\n",
        "        x_c_fit = 0\n",
        "        y_c_fit = 0\n",
        "        r_fit = 0\n",
        "    else:\n",
        "        x_c_fit = -b / (2 * a)\n",
        "        y_c_fit = -c / (2 * a)\n",
        "        r_fit = math.sqrt(abs(b ** 2 + c ** 2 - 4 * a)) / abs(2 * a)\n",
        "    \n",
        "    return x_c_fit, y_c_fit, r_fit\n",
        "        "
      ],
      "execution_count": null,
      "outputs": []
    },
    {
      "cell_type": "markdown",
      "metadata": {
        "id": "dYctx99VCPku"
      },
      "source": [
        "The function *circle_ransac* performs RANSAC algorithm. It takes data matrix, number of RANSAC iterations at a certain guaranteed accuracy and the threshold of the distances between points and the fitting line as arguments and returns the circle parameters of the fitted circle and the inliers that corresponds to this circle model. The number of iterations is given by $$N=\\lceil\\frac{\\log(1-p)}{\\log(1-(1-r)^s)}\\rceil$$ where $p$ is the guaranteed accuracy, i.e., confidence, r is the outlier ratio and s is the minimal number of the sample points that fit the model, in circle fitting $s=3$."
      ]
    },
    {
      "cell_type": "code",
      "metadata": {
        "id": "8goSNCSJdjW3"
      },
      "source": [
        "def circle_ransac(data=None, iterations=None, threshold=None):\n",
        "    # data: 2 x n matrix with n data points\n",
        "    # iter: number of RANSAC iterations given a certain guaranteed accuracy \n",
        "    # threshold: the threshold of the distances between points and the fitting line\n",
        "    # xc, yc, r: best fitted circle's parameters\n",
        "    # inliers: 2 x m matrix with inlier points for best fitted circle\n",
        "\n",
        "    n_points = data.shape[1] # total number of points\n",
        "    best_n_inliers = 0 # largest number of inliers \n",
        "    x_c = 0\n",
        "    y_c = 0\n",
        "    r = 0\n",
        "\n",
        "    x = data[0, :]\n",
        "    y = data[1, :]\n",
        "\n",
        "    for i in range(iterations):\n",
        "\n",
        "        # randomly select 3 points and fit circle to these points\n",
        "        indices = np.random.permutation(n_points)[:3]\n",
        "        point_1 = data[:, indices[0]]\n",
        "        point_2 = data[:, indices[1]]\n",
        "        point_3 = data[:, indices[2]]\n",
        "\n",
        "        x_c_temp, y_c_temp, r_temp = circle_fit(point_1, point_2, point_3)\n",
        "\n",
        "        # compute the distances between all points with the fitting circle\n",
        "        distances = np.abs(np.sqrt((x - x_c_temp) ** 2 + (y - y_c_temp) ** 2) - r_temp)\n",
        "\n",
        "        # find the inliers (distances smaller than the threshold)\n",
        "        is_inlier = distances <= threshold\n",
        "        n_inliers = sum(is_inlier)\n",
        "        \n",
        "\n",
        "        # update the number of inliers and fitting model if better model is found\n",
        "        if n_inliers >= best_n_inliers:\n",
        "            inliers = data[:, is_inlier]\n",
        "            x_c = x_c_temp\n",
        "            y_c = y_c_temp\n",
        "            r = r_temp\n",
        "            best_n_inliers = n_inliers\n",
        "        \n",
        "    return x_c, y_c, r, inliers\n",
        "   \n",
        "\n",
        "\n",
        "\n",
        "\n",
        "\n"
      ],
      "execution_count": null,
      "outputs": []
    },
    {
      "cell_type": "markdown",
      "metadata": {
        "id": "oNohOFDnQ67p"
      },
      "source": [
        "The function *exhaustive_search* performs exhaustive search. The difference beetween exhaustve search and RANSAC algorithms is that when performing exhaustive search, the three points which are used to fit the circle is not randomly selected but exhaustively tried. That is to say, every possible combination of three points as a set of sample points to fit a circle is attempted. Thus, the number of iteration is givn by $$n=C_N^s=C_{100}^3=161700$$ where $N$ is the number of total data points and $s$ is the number of data points to fit a circle."
      ]
    },
    {
      "cell_type": "code",
      "metadata": {
        "id": "95gTqyqrKOmY"
      },
      "source": [
        "def exhaustive_search(data=None, threshold=None):\n",
        "\n",
        "  best_inliers_exhaustive = np.zeros((0, 0))\n",
        "  best_n_inliers = 0 # largest number of inliers \n",
        "  x_c = 0\n",
        "  y_c = 0\n",
        "  r = 0\n",
        "\n",
        "  x = data[0, :]\n",
        "  y = data[1, :]\n",
        "\n",
        "  # all combinations for 100 points \n",
        "  all_comb = np.array(list(combinations(np.arange(100),3)))\n",
        "  for i in range(all_comb.shape[0]):\n",
        "    point_1 = data[:, all_comb[i][0]]\n",
        "    point_2 = data[:, all_comb[i][1]]\n",
        "    point_3 = data[:, all_comb[i][2]]\n",
        "\n",
        "    x_c_temp, y_c_temp, r_temp = circle_fit(point_1, point_2, point_3)\n",
        "\n",
        "    # compute the distances between all points with the fitting circle\n",
        "    distances = np.abs(np.sqrt((x - x_c_temp) ** 2 + (y - y_c_temp) ** 2) - r_temp)\n",
        "\n",
        "    is_inlier = distances <= threshold\n",
        "    n_inliers = sum(is_inlier)\n",
        "\n",
        "    if n_inliers >= best_n_inliers:\n",
        "      \n",
        "      inliers = data[:, is_inlier]\n",
        "      x_c = x_c_temp\n",
        "      y_c = y_c_temp\n",
        "      r = r_temp\n",
        "      best_n_inliers = n_inliers\n",
        "\n",
        "  return x_c, y_c, r, inliers\n",
        "\n",
        "\n",
        "\n",
        "\n",
        "\n",
        "  \n",
        "\n",
        "    \n"
      ],
      "execution_count": null,
      "outputs": []
    },
    {
      "cell_type": "markdown",
      "metadata": {
        "id": "wPGi3iX-UuPe"
      },
      "source": [
        "The following section gives the results of RANSAC and exhaustive search algorithms to fit a circle given noisy data. The true parameters of the circle are chosen to be $$(x_c,y_c)=(0,0)\\\\ r=5$$ The accuracy is set to 0.99 and the outlier ratios are $0.05, 0.2, 0.3, 0.7$. To get the distribution of the number of inliers found by RANSAC in a histogram, the RANSAC is reapplied 1000 times, to populate the histogram. "
      ]
    },
    {
      "cell_type": "code",
      "metadata": {
        "id": "eW1-W1w5Fr6C",
        "colab": {
          "base_uri": "https://localhost:8080/",
          "height": 292,
          "referenced_widgets": [
            "e20bc4a01c2446208b4bf9af21fb4f51",
            "e6148e676ef84a0589473491a1576305",
            "2c9edc54e2764328a9750136516692a2",
            "a06caa13a9c44abbba6febebac3061b8",
            "1137f3b526384f639e20608ce72e41c5",
            "1512e6bf21cf4a789985509b31a681e4",
            "6c02426389c64d7ea79ee06f448668b5",
            "37eb2431e52146559beec600ebb5c6c2"
          ]
        },
        "outputId": "82109529-14da-4269-bb17-e0f643de75e8"
      },
      "source": [
        "from tqdm.notebook import tqdm\n",
        "\n",
        "random.seed(datetime.now())\n",
        "\n",
        "#outlier_ratios = np.array([0.05, 0.2, 0.3, 0.7])\n",
        "\n",
        "# true circle parameters \n",
        "x_c = 0\n",
        "y_c = 0\n",
        "r = 5\n",
        "\n",
        "print('Circle Center:', x_c, y_c);\n",
        "print('Circle Radius:', r);\n",
        "\n",
        "p = 0.99\n",
        "s = 3\n",
        "\n",
        "  \n",
        "best_inliers_fit = np.zeros((0, 0))\n",
        "inlier_counts = np.zeros((1, 1000))\n",
        "outlier_ratio = float(input('Enter outlier ratio:'))\n",
        "print('Outlier Ratio:', outlier_ratio)\n",
        "data = generate_circle_data_points(x_c, y_c, r, outlier_ratio)\n",
        "x = data[0, :]\n",
        "y = data[1, :]\n",
        "n_iterations = math.ceil(math.log(1 - p) / math.log(1 - (1 - outlier_ratio) ** s))\n",
        "    \n",
        "start = time.time()\n",
        "for j in tqdm(range(1000)):\n",
        "\n",
        "  x_c_fit, y_c_fit, r_fit, inliers_fit = circle_ransac(data, n_iterations, 0.1)\n",
        "  inlier_count = inliers_fit.shape[1]\n",
        "  inlier_counts[0][j] = inlier_count\n",
        "        \n",
        "  if inlier_count >= best_inliers_fit.shape[1]:\n",
        "\n",
        "    best_x_c_fit = x_c_fit\n",
        "    best_y_c_fit = y_c_fit\n",
        "    best_r_fit = r_fit\n",
        "    best_inliers_fit = inliers_fit\n",
        "\n",
        "end = time.time()\n",
        "inlier_count_mean = np.mean(inlier_counts)\n",
        "inlier_count_max = np.max(inlier_counts)\n",
        "inlier_count_median = np.median(inlier_counts)\n",
        "inlier_count_std = np.std(inlier_counts)\n",
        "\n",
        "print('---------------- RANSAC ---------------------------------')\n",
        "print('average running time of RANSAC:', (end-start)/1000)\n",
        "print('average number of inliers of RANSAC:', inlier_count_mean)\n",
        "print('maximum number of inliers of RANSAC:', inlier_count_max)\n",
        "print('median number of inliers of RANSAC:', inlier_count_median)\n",
        "print('standard deviation of inliers of RANSAC:', inlier_count_std)\n",
        "\n",
        "start_exhaustive = time.time() \n",
        "x_c_fit_ex, y_c_fit_ex, r_fit_ex, inliers_fit_ex = exhaustive_search(data, 0.1)\n",
        "end_exhaustive = time.time()\n",
        "print('---------------- Exhaustive Search------------------------')\n",
        "print('running time of exhaustive search:', end_exhaustive-start_exhaustive)\n",
        "inlier_count_ex = inliers_fit_ex.shape[1]\n",
        "print('number of inliers of exhaustive search:', inlier_count_ex)\n"
      ],
      "execution_count": null,
      "outputs": [
        {
          "output_type": "stream",
          "text": [
            "Circle Center: 0 0\n",
            "Circle Radius: 5\n",
            "Enter outlier ratio:0.7\n",
            "Outlier Ratio: 0.7\n"
          ],
          "name": "stdout"
        },
        {
          "output_type": "display_data",
          "data": {
            "application/vnd.jupyter.widget-view+json": {
              "model_id": "e20bc4a01c2446208b4bf9af21fb4f51",
              "version_minor": 0,
              "version_major": 2
            },
            "text/plain": [
              "HBox(children=(FloatProgress(value=0.0, max=1000.0), HTML(value='')))"
            ]
          },
          "metadata": {
            "tags": []
          }
        },
        {
          "output_type": "stream",
          "text": [
            "\n",
            "---------------- RANSAC ---------------------------------\n",
            "average running time of RANSAC: 0.07075152254104614\n",
            "average number of inliers of RANSAC: 25.318\n",
            "maximum number of inliers of RANSAC: 30.0\n",
            "median number of inliers of RANSAC: 26.0\n",
            "standard deviation of inliers of RANSAC: 3.775827856245568\n",
            "---------------- Exhaustive Search------------------------\n",
            "running time of exhaustive search: 60.83304262161255\n",
            "number of inliers of exhaustive search: 30\n"
          ],
          "name": "stdout"
        }
      ]
    },
    {
      "cell_type": "code",
      "metadata": {
        "colab": {
          "base_uri": "https://localhost:8080/",
          "height": 297
        },
        "id": "GhEVKivfQuUS",
        "outputId": "3e610814-2037-42b1-a658-186aef9da3bd"
      },
      "source": [
        "# plot histogram\n",
        "plt.hist(inlier_counts[0], bins=100, facecolor=\"blue\", edgecolor=\"black\", alpha=0.7)\n",
        "plt.xlim((0, 100)) \n",
        "plt.xlabel('Nb of detected inliers')\n",
        "plt.ylabel('Nb of experiments')"
      ],
      "execution_count": null,
      "outputs": [
        {
          "output_type": "execute_result",
          "data": {
            "text/plain": [
              "Text(0, 0.5, 'Nb of experiments')"
            ]
          },
          "metadata": {
            "tags": []
          },
          "execution_count": 81
        },
        {
          "output_type": "display_data",
          "data": {
            "image/png": "[encoded data removed]",
            "text/plain": [
              "<Figure size 432x288 with 1 Axes>"
            ]
          },
          "metadata": {
            "tags": [],
            "needs_background": "light"
          }
        }
      ]
    },
    {
      "cell_type": "code",
      "metadata": {
        "colab": {
          "base_uri": "https://localhost:8080/",
          "height": 283
        },
        "id": "MLiCtFjrQAjy",
        "outputId": "65bfbcf0-c983-4142-f85e-4421dc86e519"
      },
      "source": [
        "# plot synthesized data and RANSAC fit\n",
        "plt.scatter(x, y, facecolors='none', edgecolors='r', label = 'RANSAC outliers')\n",
        "plt.scatter(best_inliers_fit[0,:], best_inliers_fit[1,:], facecolors='none', edgecolors='b', label = 'RANSAC inliers')\n",
        "plt.xlim((-10, 10))  \n",
        "plt.ylim((-10, 10))\n",
        "plt.axis('equal')\n",
        "ax = plt.gca()\n",
        "disk1 = plt.Circle((x_c, y_c), r, color='g', fill=False, label='synth.model')\n",
        "ax.add_artist(disk1)\n",
        "disk2 = plt.Circle((best_x_c_fit, best_y_c_fit), best_r_fit, color='black', fill=False, label='RANSAC model')\n",
        "ax.add_artist(disk2)\n",
        "plt.legend(loc='upper left')"
      ],
      "execution_count": null,
      "outputs": [
        {
          "output_type": "execute_result",
          "data": {
            "text/plain": [
              "<matplotlib.legend.Legend at 0x7f4597519b50>"
            ]
          },
          "metadata": {
            "tags": []
          },
          "execution_count": 82
        },
        {
          "output_type": "display_data",
          "data": {
            "image/png": "[encoded data removed]",
            "text/plain": [
              "<Figure size 432x288 with 1 Axes>"
            ]
          },
          "metadata": {
            "tags": [],
            "needs_background": "light"
          }
        }
      ]
    },
    {
      "cell_type": "markdown",
      "metadata": {
        "id": "I_6rcl0FenYw"
      },
      "source": [
        "**Discussion**\n",
        "\n",
        "\n",
        "> Results\n",
        "\n",
        "The following figure (from left to right) shows the results of RANSAC with outlier ratios of $0.05, 0.2, 0.3, 0.7$ each respectively.\n",
        "\n",
        "![](https://drive.google.com/uc?export=view&id=1hZdNKeVvJzLp1TIb_q4qC9CDQYbR2VeV)\n",
        "\n",
        "> Answer the Questions \n",
        "\n",
        "The number of combinations (exhaustive search) exist for $N = 100$ points is: $$n=C_{100}^3=161,700$$ The number of number of RANSAC iterations is given by $$n=\\lceil\\frac{\\log(1-p)}{\\log(1-(1-r)^s)}\\rceil$$ Thus, the number of iterations required to achieve the accuracy of $0.99$ is $3, 7, 11, 169$ for outlier ratios of $0.05, 0.2, 0.3, 0.7$ each respectively.\n",
        "\n",
        "The number of combinations (exhaustive search) exist for $N = 100,000$ points is $$n=C_{100,000}^3=166,661,666,700,000$$ While the number of RANSAC iterations remains the same as $N=100$ since it is independent of the size of the dataset. \n",
        "\n",
        "Yes, the exhaustive search on all the combinations of data points guarantees the optimal solution simply because it tries all the combinations and thus can reach the global optimal solution while RANSAC can only achieve a local optimal solution. In fact, the best solution that RANSAC finds in 1,000 iterations is close to the global optimal solution, as what exhaustive search finds. \n",
        "\n",
        "> Discussion of Results\n",
        "\n",
        "The following table shows the statistics of the number of inliers fitted by the RANSAC algorithm:\n",
        "\n",
        "|Outlier Ratio|0.05|0.20|0.30|0.70|\n",
        "|:---|:---|:---|:---|:---|\n",
        "|Max Nb of Detected Inliers|95 |77  | 70 | 30 |\n",
        "|Average Nb of Detected Inliers  |71.98  |57.06 | 54.01| 25.32 |\n",
        "|Median Nb of Detected Inliers  |78 |60 |  58 | 26 |\n",
        "|Standard Deviation|17.54 |12.03|12.01| 3.78 |\n",
        "\n",
        "The following table shows the statistics of the number of inliers fitted by the exhaustive search algorithm:\n",
        "\n",
        "|Outlier Ratio|0.05|0.20|0.30|0.70|\n",
        "|:---|:---|:---|:---|:---|\n",
        "|Nb of Detected Inliers|95 |79  | 70 | 30 |\n",
        "\n",
        "The following table shows the running time of RANSAC and exhaustive search algorithm:\n",
        "\n",
        "|Outlier Ratio|0.05|0.20|0.30|0.70|\n",
        "|:---|:---|:---|:---|:---|\n",
        "|RANSAC|0.0014 |0.0032 | 0.0052 | 0.0708 |\n",
        "|Exhaustive Search |58.8386|60.0824 | 65.5748 | 60.8330 |\n",
        "\n",
        "From the tables above we can see that the number of  synthesized inliers fitted by exhaustive search is always larger than or equal to the maximum number of  synthesized inliers fitted by the RANSAC algorithm in 1000 iterations. This is due to the fact that the exhaustive search tries all the combinations and thus can reach the global optimal solution while RANSAC can only achieve a local optimal solution. Also, the exhaustive search algorithm is much more time-consuming than RANSAC. Beside, when outlier ratio increases, the running time of RANSAC increases while the running time of exhaustive search remains the same due to the fact that the number RANSAC interations depends on the outlier ratio while the number exhaustive search interations depends on the size of the data set, i.e., the number of total points. \n",
        "\n",
        "\n",
        "\n",
        "\n"
      ]
    },
    {
      "cell_type": "markdown",
      "metadata": {
        "id": "gkOnKnt3ZZn-"
      },
      "source": [
        "The function *generate_line_data_points* takes the model parameters, i.e., slope and y-intercept, outlier ratio, inlier distance threshold $\\tau$ (by default $\\tau=0.1$ in this exercise) and number of sample points (by default $N=100$ in this exercise) as arguments and returns the coordiantes of sampling data points including inliers and outliers. The points are generated according to: $$y=ax+b$$ where $a$ and $b$ is the slope and y-intercept of the line. Random noise in the range of $[-1,1]$ is added to the inliers. Thus, the coordinates of inliers are: $$y_i=ax_i+b+n$$ where n is therandom noise in the range of $[-1,1]$. \n",
        "\n",
        "To generate outliers, the points are firstly randomly sampled in the domain $[-10, 10]\\times[-10, 10]$ and then verified such that the distance between the sampled points and the line $$\\vert y-(ax+b)\\vert>\\tau$$ where $\\tau$ is the inlier distance threshold. After successfully generating the inliers and outliers, the data matrix is shuffled."
      ]
    },
    {
      "cell_type": "markdown",
      "metadata": {
        "id": "myepgG18xLgt"
      },
      "source": [
        "**2. IRLS and NORMS FOR LINE FITTING**"
      ]
    },
    {
      "cell_type": "code",
      "metadata": {
        "id": "gLJG6dKBID03"
      },
      "source": [
        "def generate_line_data_points(a=None, b=None, outlier_ratio=None, tau=0.1, N=100):\n",
        "  # a, b are true line parameters\n",
        "  # outlier_ratio: the ratio of outliers, i.e. points that don’t follow the “circle” rule at all\n",
        "  # tau: the inlier distance threshold, in this exercise tau = 0.1\n",
        "  # N: number of points, in this exercise N=100 \n",
        "\n",
        "  inlier_ratio = 1 - outlier_ratio\n",
        "  n_outliers = int(N * outlier_ratio)\n",
        "  n_inliers = int(N * inlier_ratio)\n",
        "\n",
        "  noise_range = 0.1 \n",
        "  noise = (2 * noise_range) * np.random.rand(1, n_inliers) - noise_range\n",
        "\n",
        "  domain_upper_bound = 10\n",
        "  domain_lower_bound = -10\n",
        "\n",
        "  # generate inliers\n",
        "  x_in = (2 * domain_upper_bound) * np.random.rand(1, n_inliers) - domain_upper_bound\n",
        "  y_in = a*x_in + b + noise\n",
        "\n",
        "  # generate outliers\n",
        "  x_out = np.zeros((1, n_outliers))\n",
        "  y_out = np.zeros((1, n_outliers))\n",
        "\n",
        "  i = 0\n",
        "  while i < n_outliers:\n",
        "    \n",
        "    x_temp = (domain_upper_bound - domain_lower_bound) * random.uniform(0, 1) + domain_lower_bound\n",
        "    y_temp = (domain_upper_bound - domain_lower_bound) * random.uniform(0, 1) + domain_lower_bound\n",
        "      \n",
        "    distance = abs(y_temp - (a * x_temp + b))\n",
        "\n",
        "    # verify if created point is truly outlier\n",
        "    if distance > tau:\n",
        "      \n",
        "      x_out[0][i] = x_temp\n",
        "      y_out[0][i] = y_temp\n",
        "\n",
        "      i+= 1\n",
        "\n",
        "  x = np.hstack((x_in, x_out))\n",
        "  y = np.hstack((y_in, y_out))\n",
        "  indices = np.array(list(range(len(x))))\n",
        "  random.shuffle(indices)\n",
        "  x = x[indices]\n",
        "  y = y[indices]\n",
        "  data = np.vstack((x,y))\n",
        "    \n",
        "  return data\n",
        "\n",
        "\n",
        "\n",
        "\n",
        "\n"
      ],
      "execution_count": 2,
      "outputs": []
    },
    {
      "cell_type": "markdown",
      "metadata": {
        "id": "yTuFeiUdeM9K"
      },
      "source": [
        "The function *irls_L1* implement iterative re-weighted least squares algorithm. The line fitting problem with $L_1$-Norm can be formulated as the following optimization problem: $$\\underset{x}{\\operatorname{\\text{argmin}}} \\sum_{i=1}^Nd(y_i,x)=\\underset{x}{\\operatorname{\\text{argmin}}} \\sum_{i=1}^Nw_i^tf_i(x)$$ where $f_i(x)=d(y_i,x)^2$ and $w_i^t=\\frac{1}{2}d(y_i,x^t)^{-1}$.\n",
        "\n",
        "In this function, we use matrix notation, i.e.,\n",
        "$$\\underset{x}{\\operatorname{\\text{argmin}}} \\sum_{i=1}^Nw_i^tf_i(x)=\\underset{x}{\\operatorname{\\text{argmin}}} (Ax-b)^TW^t(Ax-b)$$ where $$A=\\left [\n",
        "\\begin{matrix}\n",
        "x_1 & 1  \\\\\n",
        "x_2 & 1 \\\\\n",
        "\\vdots & \\vdots \\\\\n",
        "x_N & 1\n",
        "\\end{matrix}\n",
        "\\right], b = \\left [\n",
        "\\begin{matrix}\n",
        "y_1   \\\\\n",
        "y_2\\\\\n",
        "\\vdots \\\\\n",
        "y_N\n",
        "\\end{matrix}\n",
        "\\right]$$ and $W^t$ is a diagonal matrix $$W^t = \\left [\n",
        "\\begin{matrix}\n",
        "w_1^t & 0 & \\cdots & 0  \\\\\n",
        "0 & w_2^t & \\cdots & 0  \\\\\n",
        "\\vdots & \\vdots & \\ddots & \\vdots \\\\\n",
        " 0 & 0 & \\cdots & w_N^t \n",
        "\\end{matrix}\n",
        "\\right]\\in\\mathbb{R}^{N\\times N}$$\n",
        "\n",
        "Note that IRLS is an iterative optimization method so we have to initialize $x$ and $w$ at the first stage. Here we initialize $x$ as the solution of ordinary least square, i.e., the pseudo inverse of the linear system $Ax=b$. \n"
      ]
    },
    {
      "cell_type": "code",
      "metadata": {
        "id": "0yEJuVtHKdy1"
      },
      "source": [
        "def irls_L1(data=None , max_iteration=None , tolerence=None):\n",
        "  # data: 2 x N matrix with each row vector (x,y)\n",
        "  # max_iteration: number of maximum iterations before termination\n",
        "  # tolerance: tolerance for the change in x parameters before termination\n",
        "\n",
        "  N = data.shape[1] # N = 100 in this exercise\n",
        "  \n",
        "  # model: Ax = b \n",
        "  A = np.transpose(np.vstack((np.array([data[0, :]]), np.ones((1, N)))))\n",
        "  b = np.transpose(np.array([data[1, :]]))\n",
        "  \n",
        "  # OLS initialization, set the weight to 1\n",
        "  x = np.linalg.pinv(A)@b\n",
        "\n",
        "  # initialize w\n",
        "  w = np.eye(N)\n",
        "\n",
        "  n_iteration = 0\n",
        "\n",
        "  for i in range(max_iteration):\n",
        "\n",
        "    d = abs(A@x - b)\n",
        "    w = 0.5 * 1/d\n",
        "    w = w.reshape((100,))\n",
        "    W = np.diag(w)\n",
        "\n",
        "    x_temp = x\n",
        "    x = np.linalg.inv(np.transpose(A) @ W @ A) @ (np.transpose(A) @ W @ b)\n",
        "\n",
        "    n_iteration = n_iteration + 1\n",
        "\n",
        "    error = sum(abs((x - x_temp)))\n",
        "    \n",
        "    if error < tolerence:\n",
        "      break\n",
        "  \n",
        "\n",
        "  residual = sum(abs((A@x - b)))\n",
        "  a = x[0][0]\n",
        "  b = x[1][0]\n",
        "\n",
        "  return a, b, n_iteration, residual\n",
        "    \n",
        "\n"
      ],
      "execution_count": 3,
      "outputs": []
    },
    {
      "cell_type": "markdown",
      "metadata": {
        "id": "CWKdvkLxmrWb"
      },
      "source": [
        "The function *linear_program* performs linear programming.\n",
        "\n",
        "> Linear Programming with $L_1$ Norm\n",
        "\n",
        "The line fitting problem with $L_1$ Norm can be formulated as the following optimization problem: $$\\underset{x}{\\operatorname{\\text{argmin}}} \\sum_{i=1}^Nd(y_i,x)=\\underset{x}{\\operatorname{\\text{argmin}}} \\Vert Ax-b\\Vert_1=\\underset{x}{\\operatorname{\\text{argmin}}} \\sum_{i=1}^N \\vert A_ix-b_i \\vert$$ where $$A_i=\\left [\n",
        "\\begin{matrix}\n",
        "x_i & 1  \\\\\n",
        "\\end{matrix}\n",
        "\\right], b_i = \\left [\n",
        "\\begin{matrix}\n",
        "y_i\n",
        "\\end{matrix}\n",
        "\\right]$$\n",
        "\n",
        "This optimization problem can be solved by linear programming $$\\underset{x,\\ t_1,\\cdots,t_N}{\\operatorname{\\text{min}}}t_i\\\\\n",
        "\\text{s.t.}\\ \\vert A_ix-b_i \\vert\\leq t_i, \\ \\ i\\in[N]$$\n",
        "\n",
        "The *scipy.optimize.linprog* can solve the linear programming problems of the following form:$$\\underset{x}{\\operatorname{\\text{min}}}\\ \\ c^Tx\\\\\\text{s.t.}\\  A_{ub}x\\leq b_{ub}$$\n",
        "\n",
        "Thus, to solve our linear programming problem, we have:$$A_{ub}=\\left [\n",
        "\\begin{matrix}\n",
        "-x_1 & -1 & -1& \\cdots & -1  \\\\\n",
        "-x_2 & -1 & -1& \\cdots & -1 \\\\\n",
        "\\vdots & \\vdots& \\vdots & \\ddots & \\vdots \\\\\n",
        "-x_N & -1& -1& \\cdots & -1  \\\\\n",
        "x_1 & 1 & -1& \\cdots & -1 \\\\\n",
        "x_2 & 1& -1& \\cdots & -1 \\\\\n",
        "\\vdots & \\vdots& \\vdots & \\ddots & \\vdots \\\\\n",
        "x_N & 1& -1& \\cdots & -1\n",
        "\\end{matrix}\n",
        "\\right]\n",
        "\\in\\mathbb{R}^{(2N)\\times(2+N)}\\\\b_{ub}=\\left [\n",
        "\\begin{matrix}\n",
        "-y_1   \\\\\n",
        "-y_2\\\\\n",
        "\\vdots \\\\\n",
        "-y_N \\\\\n",
        "y_1   \\\\\n",
        "y_2\\\\\n",
        "\\vdots \\\\\n",
        "y_N\n",
        "\\end{matrix}\n",
        "\\right]\\in\\mathbb{R}^{2N\\times 1}\\ \\  c=\\left [\n",
        "\\begin{matrix}\n",
        "0   \\\\\n",
        "0\\\\\n",
        "1\\\\\n",
        "\\vdots \\\\\n",
        "1\n",
        "\\end{matrix}\n",
        "\\right]\\in\\mathbb{R}^{(2+N)\\times 1}$$\n",
        "\n",
        "The solution to this linear programming is: $$x=\\left [\n",
        "\\begin{matrix}\n",
        "a  \\\\\n",
        "b\\\\\n",
        "t_1\\\\\n",
        "\\vdots \\\\\n",
        "t_N\n",
        "\\end{matrix}\n",
        "\\right]\\in\\mathbb{R}^{(2+N)\\times 1}$$ Thus, to obtain the fitted line parameter we only need the first two entries of the solution vector $x$. \n",
        "\n",
        "> Linear Programming with $L_\\infty$ Norm\n",
        "\n",
        "The line fitting problem with $L_1$-Norm can be formulated as the following optimization problem: $$\\underset{x}{\\operatorname{\\text{argmin}}} \\sum_{i=1}^Nd(y_i,x)=\\underset{x}{\\operatorname{\\text{argmin}}} \\Vert Ax-b\\Vert_\\infty=\\underset{x}{\\operatorname{\\text{argmin}}}\\ \\underset{i=1,\\cdots,N}{\\operatorname{\\text{max}}}\\sum_{i=1}^N \\vert A_ix-b_i \\vert$$ where $$A_i=\\left [\n",
        "\\begin{matrix}\n",
        "x_i & 1  \\\\\n",
        "\\end{matrix}\n",
        "\\right], b_i = \\left [\n",
        "\\begin{matrix}\n",
        "y_i\n",
        "\\end{matrix}\n",
        "\\right]$$\n",
        "\n",
        "This optimization problem can be solved by linear programming $$\\underset{x,\\ t}{\\operatorname{\\text{min}}}t_i\\\\\n",
        "\\text{s.t.}\\ \\vert A_ix-b_i \\vert\\leq t, \\ \\ i\\in[N]$$. Thus, to solve our linear programming problem, we have:$$A_{ub}=\\left [\n",
        "\\begin{matrix}\n",
        "-x_1 & -1 & -1  \\\\\n",
        "-x_2 & -1 & -1 \\\\\n",
        "\\vdots & \\vdots& \\vdots  \\\\\n",
        "-x_N & -1& -1  \\\\\n",
        "x_1 & 1 & -1 \\\\\n",
        "x_2 & 1& -1 \\\\\n",
        "\\vdots & \\vdots& \\vdots  \\\\\n",
        "x_N & 1& -1\n",
        "\\end{matrix}\n",
        "\\right]\n",
        "\\in\\mathbb{R}^{(2N)\\times 3}\\\\b_{ub}=\\left [\n",
        "\\begin{matrix}\n",
        "-y_1   \\\\\n",
        "-y_2\\\\\n",
        "\\vdots \\\\\n",
        "-y_N \\\\\n",
        "y_1   \\\\\n",
        "y_2\\\\\n",
        "\\vdots \\\\\n",
        "y_N\n",
        "\\end{matrix}\n",
        "\\right]\\in\\mathbb{R}^{2N\\times 1}\\ \\  c=\\left [\n",
        "\\begin{matrix}\n",
        "0   \\\\\n",
        "0\\\\\n",
        "1\n",
        "\\end{matrix}\n",
        "\\right]\\in\\mathbb{R}^{3 \\times 1}$$ The solution to this linear programming is: $$x=\\left [\n",
        "\\begin{matrix}\n",
        "a  \\\\\n",
        "b\\\\\n",
        "t\n",
        "\\end{matrix}\n",
        "\\right]\\in\\mathbb{R}^{3 \\times 1}$$ Thus, to obtain the fitted line parameter we only need the first two entries of the solution vector $x$. \n",
        "\n",
        "\n",
        "\n",
        "\n",
        "\n",
        "\n"
      ]
    },
    {
      "cell_type": "code",
      "metadata": {
        "id": "82az-r86FvrK"
      },
      "source": [
        "def linear_program(data=None, norm=None):\n",
        "  # data: 2 x N matrix with each row vector (x,y)\n",
        "\n",
        "  N = data.shape[1] # N = 100 in this exercise\n",
        "  # model: Ax = b\n",
        "\n",
        "  X = np.transpose(np.vstack((np.array([data[0, :]]), np.ones((1, N)))))\n",
        "  Y = np.transpose(np.array([data[1, :]]))\n",
        "\n",
        "\n",
        "  if norm == 'L1':\n",
        "\n",
        "    A = np.zeros((2*N, N+2))\n",
        "    b = np.zeros((2*N, 1))\n",
        "    \n",
        "    c = np.concatenate((np.zeros((1, 2)), np.ones((1, N))), axis=1)\n",
        "\n",
        "    A[0:2*N:2, 0:2] = X\n",
        "    A[1:2*N:2, 0:2] = -X\n",
        "    b[0:2*N:2, :] = Y\n",
        "    b[1:2*N:2, :] = -Y\n",
        "\n",
        "    for i in range(N):\n",
        "      A[2*i][i+2] = -1\n",
        "      A[2*i+1][i+2] = -1\n",
        "\n",
        "    a_bound = (None, None)\n",
        "    b_bound = (None, None)\n",
        "    bounds = [a_bound, b_bound]\n",
        "    for i in range(100):\n",
        "      bounds.append((0, None)) \n",
        "\n",
        "    res = linprog(c, A_ub=A, b_ub=b, bounds=bounds)\n",
        "    print(res.x.shape)\n",
        "\n",
        "  elif norm == 'Linf':\n",
        "\n",
        "    A_1 = np.concatenate((X, -1*np.ones((N, 1))), axis=1)\n",
        "    A_2 = np.concatenate((-X, -1*np.ones((N, 1))), axis=1)\n",
        "    A = np.concatenate((A_1, A_2), axis=0)\n",
        "\n",
        "    b = np.concatenate((Y, -Y), axis=0)\n",
        "\n",
        "    c = np.array([[0, 0, 1]])\n",
        "    \n",
        "    res = linprog(c, A_ub=A, b_ub=b, bounds=[(None, None), (None, None), (0, None)])\n",
        "    \n",
        "\n",
        "  else:\n",
        "      print('norm can only be L1 or Linf')\n",
        "\n",
        "  coeff = np.zeros((2,1))\n",
        "  coeff[0][0] = res.x[0]\n",
        "  coeff[1][0] = res.x[1]\n",
        "  residual = sum(abs((X@coeff - Y)))\n",
        "  \n",
        "  return res.x[0], res.x[1], residual \n",
        "\n",
        "\n",
        "\n",
        "\n",
        "\n",
        "\n",
        "\n",
        "\n",
        "\n",
        "\n",
        "\n",
        "\n",
        "\n"
      ],
      "execution_count": 4,
      "outputs": []
    },
    {
      "cell_type": "markdown",
      "metadata": {
        "id": "RN2JDVqmdM-X"
      },
      "source": [
        "The following section gives the results of IRLS, $L_1$ and $L_\\infty$ linear programming algorithms to fit a line given noisy data. The true parameters of the line are chosen to be $$a=1, b=2$$ The outlier ratios are $0$ and $0.1$. "
      ]
    },
    {
      "cell_type": "code",
      "metadata": {
        "colab": {
          "base_uri": "https://localhost:8080/",
          "height": 435
        },
        "id": "GZZIzvu0ZegI",
        "outputId": "3315acda-61a7-4e9f-b3f5-1bf6a2a81acd"
      },
      "source": [
        "a = 1\n",
        "b = 2\n",
        "outlier_ratio = float(input('Enter outlier ratio'))\n",
        "data = generate_line_data_points(a=a, b=b, outlier_ratio=outlier_ratio, tau=0.1, N=100)\n",
        "plt.scatter(data[0, :], data[1, :], facecolors='none', edgecolors='blue', label = 'data')\n",
        "start_1 = time.time()\n",
        "a_irls, b_irls, n, res_irls = irls_L1(data , max_iteration=100 , tolerence=0.01)\n",
        "end_1 = time.time()\n",
        "print('-------------- IRLS ---------------')\n",
        "print('IRLS:', 'a =', a_irls, 'b =', b_irls, 'residual =', res_irls, 'run time:', end_1-start_1)\n",
        "start_2 = time.time()\n",
        "a_L1, b_L1, res_L1 = linear_program(data, norm='L1')\n",
        "end_2 = time.time()\n",
        "print('-------------- L1 ---------------')\n",
        "print('L1:', 'a =', a_L1, 'b =', b_L1, 'residual =', res_L1, 'run time:', end_2-start_2 )\n",
        "start_3 = time.time()\n",
        "a_Linf, b_Linf, res_Linf = linear_program(data, norm='Linf')\n",
        "end_3 = time.time()\n",
        "print('-------------- Linf ---------------')\n",
        "print('Linf:', 'a =', a_Linf, 'b =', b_Linf, 'residual =', res_Linf, 'run time:', end_3-start_3)\n",
        "x = np.linspace(-10,10,100)\n",
        "y = a*x + b\n",
        "y_irls = a_irls*x+b_irls\n",
        "y_L1 = a_L1*x+b_L1\n",
        "y_Linf = a_Linf*x+b_Linf\n",
        "plt.xlim((-10, 10))  \n",
        "plt.ylim((-10, 10))\n",
        "plt.plot(x, y, 'yellow', label='True Model')\n",
        "plt.plot(x, y_irls, 'red', label='IRLS with L1 Norm')\n",
        "plt.plot(x, y_L1, 'green', label='LP with L1 Norm')\n",
        "plt.plot(x, y_Linf, 'black', label='LP with L-inf Norm')\n",
        "plt.xlim((-10, 10)) \n",
        "plt.xlim((-10, 10)) \n",
        "plt.legend(loc='upper left')\n",
        "\n",
        "\n"
      ],
      "execution_count": 21,
      "outputs": [
        {
          "output_type": "stream",
          "text": [
            "Enter outlier ratio0.1\n",
            "-------------- IRLS ---------------\n",
            "IRLS: a = 0.9916664399380388 b = 1.9914351825456258 residual = [98.49453839] run time: 0.0013265609741210938\n",
            "(102,)\n",
            "-------------- L1 ---------------\n",
            "L1: a = 0.9964046169191405 b = 2.0064114603164436 residual = [98.09526386] run time: 0.11115622520446777\n",
            "-------------- Linf ---------------\n",
            "Linf: a = 0.173264283961295 b = 0.8826246480466544 residual = [394.84839822] run time: 0.05855894088745117\n"
          ],
          "name": "stdout"
        },
        {
          "output_type": "stream",
          "text": [
            "/usr/local/lib/python3.7/dist-packages/numpy/core/fromnumeric.py:87: VisibleDeprecationWarning: Creating an ndarray from ragged nested sequences (which is a list-or-tuple of lists-or-tuples-or ndarrays with different lengths or shapes) is deprecated. If you meant to do this, you must specify 'dtype=object' when creating the ndarray\n",
            "  return ufunc.reduce(obj, axis, dtype, out, **passkwargs)\n"
          ],
          "name": "stderr"
        },
        {
          "output_type": "execute_result",
          "data": {
            "text/plain": [
              "<matplotlib.legend.Legend at 0x7f4f14709e50>"
            ]
          },
          "metadata": {
            "tags": []
          },
          "execution_count": 21
        },
        {
          "output_type": "display_data",
          "data": {
            "image/png": "[encoded data removed]",
            "text/plain": [
              "<Figure size 432x288 with 1 Axes>"
            ]
          },
          "metadata": {
            "tags": [],
            "needs_background": "light"
          }
        }
      ]
    },
    {
      "cell_type": "markdown",
      "metadata": {
        "id": "pzTX3m5SfdXn"
      },
      "source": [
        "**Discussion**\n",
        "\n",
        "\n",
        "> Results\n",
        "\n",
        "The following figure (from left to right) shows the results of outlier ratios of $0, 0.1$ each respectively.\n",
        "\n",
        "![](https://drive.google.com/uc?export=view&id=1tLZ-Mx1_lXH7k5zbh07HUC9C4PZlyAyH)\n",
        "\n",
        "> Discussion of Results\n",
        "\n",
        "The following table shows the parameters of the fitted line obtained by different algorithms:\n",
        "\n",
        "|Outlier Ratio|0.|0.1|\n",
        "|:---|:---|:---|\n",
        "|IRLS with $L_1$ Norm|a = 1.0026, b = 1.9913  |a = 0.9917, b = 1.9914|\n",
        "|Linear Programming with $L_1$ Norm|a = 1.0028, b = 1.9872 |a = 0.9964, b = 2.0064|\n",
        "|Linear Programming with $L_\\infty$ Norm|a = 1.0008, b = 1.9984 | a = 0.1733, b = 0.8826|\n",
        "\n",
        "The following table shows the total cost of the fitted line obtained by different algorithms:\n",
        "\n",
        "|Outlier Ratio|0.|0.1|\n",
        "|:---|:---|:---|\n",
        "|IRLS with $L_1$ Norm| 4.3178 |98.4945|\n",
        "|Linear Programming with $L_1$ Norm|4.3178 |98.0953|\n",
        "|Linear Programming with $L_\\infty$ Norm| 4.3178| 394.8484|\n",
        "\n",
        "From the two tables above we can easily observe that in the case of outlier ratio of 0, i.e., no outliers, three algorithms gives equally good performance while in the case of outlier ratio of 0.1, only IRLS and linear programming with $L_1$ norm are robust to outliers whereas linear programming with $L_\\infty$ is greatly affected by the outliers and thus gives a comparably poor results. \n",
        "\n",
        "This is due to the fact that minimizing $L_\\infty$ norm is to minimize only the maximum value of $d(y_i,x)$ and thus not allowing any error to be very large. It can be seen as an extreme case of minimizing $L_p$ norm with large $p$-value. This optimization method over-penalizes extreme outliers and thus the cost is comparably large.  \n",
        "\n",
        "The following table shows the running time of different algorithms:\n",
        "\n",
        "|Outlier Ratio|0.|0.1|\n",
        "|:---|:---|:---|\n",
        "|IRLS with $L_1$ Norm| 0.0023 |0.0013|\n",
        "|Linear Programming with $L_1$ Norm|0.0431 |0.1112|\n",
        "|Linear Programming with $L_\\infty$ Norm| 0.0303|0.0586 |\n",
        "\n",
        "From the table above we can easily observe that IRLS with $L_1$ norm is generally faster than linear programming with $L_1$ and $L_\\infty$ norm. Also, when outlier ratio increases, the running of IRLS with $L_1$ norm and linear programming with $L_\\infty$ norm are roughly the same whereas that of linear programming with $L_1$ significantly increases. "
      ]
    }
  ]
}