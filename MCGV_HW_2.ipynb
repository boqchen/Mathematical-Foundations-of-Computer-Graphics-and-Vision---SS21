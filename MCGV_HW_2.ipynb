{
  "nbformat": 4,
  "nbformat_minor": 0,
  "metadata": {
    "colab": {
      "name": "MCGV_HW_2.ipynb",
      "provenance": [],
      "collapsed_sections": [],
      "authorship_tag": "ABX9TyPv4xrjuKzLrhz86XbavnV/",
      "include_colab_link": true
    },
    "kernelspec": {
      "name": "python3",
      "display_name": "Python 3"
    }
  },
  "cells": [
    {
      "cell_type": "markdown",
      "metadata": {
        "id": "view-in-github",
        "colab_type": "text"
      },
      "source": [
        "<a href=\"https://colab.research.google.com/github/boqchen/Mathematical-Foundations-of-Computer-Graphics-and-Vision---SS21/blob/main/MCGV_HW_2.ipynb\" target=\"_parent\"><img src=\"https://colab.research.google.com/assets/colab-badge.svg\" alt=\"Open In Colab\"/></a>"
      ]
    },
    {
      "cell_type": "markdown",
      "metadata": {
        "id": "n-yf0kD7h1ei"
      },
      "source": [
        "**MATHEMATICAL FOUNDATIONS OF COMPUTER GRAPHICS AND VISION**\n",
        "\n",
        "EXERCISE 2 - GLOBAL OPTIMIZATION\n",
        "\n",
        "Boqi Chen (20-953-048)"
      ]
    },
    {
      "cell_type": "markdown",
      "metadata": {
        "id": "hDJswDXtbBXr"
      },
      "source": [
        "**A. Derivation of the problem formulation in the canonical form of Linear Programming**\n",
        "\n",
        "The general consensus set maximization can be mathematically formulated as: \\begin{equation}\n",
        "\\begin{split}\n",
        "\\max_{\\Theta, S_{I}} &\\quad \\text{card}(S_{I}) \\\\\n",
        "\\text{s.t.} \t&\\quad f(\\Theta,q_i)\\leq\\delta, \\ \\forall i \\in S_I \\subseteq S\n",
        "\\end{split}\n",
        "\\end{equation}\n",
        "\n",
        "In our context of 2D translation with correspondences between two images, we have:\n",
        "$$f_x(\\Theta,p_i,p_i')=\\vert x_i+T_x-x_i'\\vert$$\n",
        "$$f_y(\\Theta,p_i,p_i')=\\vert y_i+T_y-y_i'\\vert$$\n",
        "A correspondence $(p_i, p_i')$ is considered inlier if the $x$ and $y$ residuals are below the inlier threshold:\n",
        "$$\\vert x_i+T_x-x_i'\\vert\\leq\\delta$$ and $$\\vert y_i+T_y-y_i'\\vert\\leq\\delta$$\n",
        "Thus, Our consensus set maximization problem can now be formulated as:\n",
        "\\begin{equation}\n",
        "\\begin{split}\n",
        "\\max_{\\Theta, S_{I}} &\\quad \\text{card}(S_{I}) \\\\\n",
        "\\text{s.t.} \t&\\quad \\vert x_i+T_x-x_i'\\vert\\leq\\delta, \\ \\forall i \\in S_I \\subseteq S \\\\&\\quad \\vert y_i+T_y-y_i'\\vert\\leq\\delta, \\ \\forall i \\in S_I \\subseteq S\n",
        "\\end{split}\n",
        "\\end{equation}\n",
        "\n",
        "We can reformulate and relax the optimization problem with $z$ values as:\n",
        "\\begin{equation}\n",
        "\\begin{split}\n",
        "\\max_{\\Theta, z} &\\quad \\sum_{i=1}^{N}z_i \\\\\n",
        "\\text{s.t.} \t&\\quad z_i\\vert x_i+T_x-x_i'\\vert\\leq z_i\\delta, \\ \\forall i \\in S_I \\subseteq S \\\\&\\quad z_i\\vert y_i+T_y-y_i'\\vert\\leq z_i\\delta, \\ \\forall i \\in S_I \\subseteq S \\\\&\\quad 0\\leq z_i\\leq 1, \\ \\forall i \\in S_I \\subseteq S \\\\&\\quad \\underline{T_{x}} \\leq T_{x} \\leq \\overline{T_{x}}, \\quad \\forall i = 1 \\dots N \\\\&\\quad \\underline{T_{y}} \\leq T_{y} \\leq \\overline{T_{y}}, \\quad \\forall i = 1 \\dots N \n",
        "\\end{split}\n",
        "\\end{equation}\n",
        "This is equivalent to:\n",
        "\\begin{equation}\n",
        "\\begin{split}\n",
        "\\max_{\\Theta, z} &\\quad \\sum_{i=1}^{N}z_i \\\\\n",
        "\\text{s.t.} \t&\\quad -z_i\\delta\\leq z_i(x_i+T_x-x_i')\\leq z_i\\delta, \\ \\forall i \\in S_I \\subseteq S \\\\&\\quad -z_i\\delta\\leq z_i(y_i+T_y-y_i')\\leq z_i\\delta, \\ \\forall i \\in S_I \\subseteq S \\\\&\\quad 0\\leq z_i\\leq 1, \\ \\forall i \\in S_I \\subseteq S \\\\&\\quad \\underline{T_{x}} \\leq T_{x} \\leq \\overline{T_{x}}, \\quad \\forall i = 1 \\dots N \\\\&\\quad \\underline{T_{y}} \\leq T_{y} \\leq \\overline{T_{y}}, \\quad \\forall i = 1 \\dots N \n",
        "\\end{split}\n",
        "\\end{equation}\n",
        "To get rid of the bilinear terms which are introduced by multiplication of $z$ and $T$, we can introduce new auxiliary variables $w_{ix}=z_iT_x$ and $w_{iy}=z_iT_y$, then the constraints \n",
        "\\begin{equation}\n",
        "\\begin{split}\n",
        "&\\quad \\underline{T_{x}} \\leq T_{x} \\leq \\overline{T_{x}}, \\quad \\forall i = 1 \\dots N \\\\&\\quad \\underline{T_{y}} \\leq T_{y} \\leq \\overline{T_{y}}, \\quad \\forall i = 1 \\dots N \n",
        "\\end{split}\n",
        "\\end{equation}\n",
        "can be relatexed by concave and convex envelopes:\n",
        "\\begin{equation}\n",
        "\\begin{split}\n",
        "&\\quad w_{ix}\\geq\\max(\\underline{z_i}T_x+z_i\\underline{T_{x}}-\\underline{z_i}\\underline{T_{x}},\\overline{z_i}T_x+z_i\\overline{T_{x}}-\\overline{z_i}\\overline{T_{x}})\\\\&\\quad  w_{ix}\\leq\\min(\\overline{z_i}T_x+z_i\\underline{T_{x}}-\\overline{z_i}\\underline{T_{x}},\\underline{z_i}T_x+z_i\\overline{T_{x}}-\\underline{z_i}\\overline{T_{x}})\\\\&\\quad w_{iy}\\geq\\max(\\underline{z_i}T_y+z_i\\underline{T_{y}}-\\underline{z_i}\\underline{T_{y}},\\overline{z_i}T_y+z_i\\overline{T_{y}}-\\overline{z_i}\\overline{T_{y}})\\\\&\\quad  w_{iy}\\leq\\min(\\overline{z_i}T_y+z_i\\underline{T_{y}}-\\overline{z_i}\\underline{T_{y}},\\underline{z_i}T_y+z_i\\overline{T_{y}}-\\underline{z_i}\\overline{T_{y}})\n",
        "\\end{split}\n",
        "\\end{equation}\n",
        "i.e.,\n",
        "\\begin{equation}\n",
        "\\begin{split}\n",
        "\\quad \\underline{z_i}T_x+z_i\\underline{T_{x}}-w_{ix}&\\leq\\underline{z_i}\\underline{T_{x}}\\\\ \\quad \\overline{z_i}T_x+z_i\\overline{T_{x}}-w_{ix}&\\leq\\overline{z_i}\\overline{T_{x}}\\\\\\quad-\\overline{z_i}T_x-z_i\\underline{T_{x}}+w_{ix}&\\leq-\\overline{z_i}\\underline{T_{x}}\\\\\\quad-\\underline{z_i}T_x-z_i\\overline{T_{x}}+w_{ix}&\\leq-\\underline{z_i}\\overline{T_{x}}\\\\  \\quad \\underline{z_i}T_y+z_i\\underline{T_{y}}-w_{iy}&\\leq\\underline{z_i}\\underline{T_{y}}\\\\\\quad \\overline{z_i}T_y+z_i\\overline{T_{y}}-w_{iy}&\\leq\\overline{z_i}\\overline{T_{y}}\\\\\\quad-\\overline{z_i}T_y-z_i\\underline{T_{y}}+w_{iy}&\\leq-\\overline{z_i}\\underline{T_{y}}\\\\\\quad-\\underline{z_i}T_y-z_i\\overline{T_{y}}+w_{iy}&\\leq-\\underline{z_i}\\overline{T_{y}}\n",
        "\\end{split}\n",
        "\\end{equation}\n",
        "Also with auxiliary variables $w_{ix}=z_iT_x$ and $w_{iy}=z_iT_y$, the constraints\n",
        "\\begin{equation}\n",
        "\\begin{split}\n",
        "&\\quad -z_i\\delta\\leq z_i(x_i+T_x-x_i')\\leq z_i\\delta\\\\&\\quad -z_i\\delta\\leq z_i(y_i+T_y-y_i')\\leq z_i\\delta\n",
        "\\end{split}\n",
        "\\end{equation}\n",
        "can be rewritten as:\n",
        "\\begin{equation}\n",
        "\\begin{split}\n",
        "\\quad z_ix_i+w_{ix}-z_ix_i'-z_i\\delta&\\leq 0\\\\\\quad -z_ix_i-w_{ix}+z_ix_i'-z_i\\delta&\\leq 0\\\\\\quad z_iy_i+w_{iy}-z_iy_i'-z_i\\delta&\\leq 0\\\\\\quad -z_iy_i-w_{iy}+z_iy_i'-z_i\\delta&\\leq 0\n",
        "\\end{split}\n",
        "\\end{equation}\n",
        "\n",
        "Thus, the optimization problem is reformulated as:\n",
        "\\begin{equation}\n",
        "\\begin{split}\n",
        "\\max_{\\Theta, z} \\quad \\sum_{i=1}^{N}z_i\\\\ \\text{s.t.} \n",
        "\\quad z_ix_i+w_{ix}-z_ix_i'-z_i\\delta&\\leq 0, \\ \\forall i \\in S_I \\subseteq S \\\\\\quad -z_ix_i-w_{ix}+z_ix_i'-z_i\\delta&\\leq 0, \\ \\forall i \\in S_I \\subseteq S \\\\\\quad z_iy_i+w_{iy}-z_iy_i'-z_i\\delta&\\leq 0, \\ \\forall i \\in S_I \\subseteq S \\\\\\quad -z_iy_i-w_{iy}+z_iy_i'-z_i\\delta&\\leq 0, \\ \\forall i \\in S_I \\subseteq S  \\\\\\quad \\underline{z_i}T_x+z_i\\underline{T_{x}}-w_{ix}&\\leq\\underline{z_i}\\underline{T_{x}},\\ \\forall i = 1 \\dots N\\\\ \\quad \\overline{z_i}T_x+z_i\\overline{T_{x}}-w_{ix}&\\leq\\overline{z_i}\\overline{T_{x}},\\ \\forall i = 1 \\dots N\\\\\\quad-\\overline{z_i}T_x-z_i\\underline{T_{x}}+w_{ix}&\\leq-\\overline{z_i}\\underline{T_{x}},\\ \\forall i = 1 \\dots N\\\\\\quad-\\underline{z_i}T_x-z_i\\overline{T_{x}}+w_{ix}&\\leq-\\underline{z_i}\\overline{T_{x}},\\ \\forall i = 1 \\dots N\\\\  \\quad \\underline{z_i}T_y+z_i\\underline{T_{y}}-w_{iy}&\\leq\\underline{z_i}\\underline{T_{y}},\\ \\forall i = 1 \\dots N\\\\\\quad \\overline{z_i}T_y+z_i\\overline{T_{y}}-w_{iy}&\\leq\\overline{z_i}\\overline{T_{y}},\\ \\forall i = 1 \\dots N\\\\\\quad-\\overline{z_i}T_y-z_i\\underline{T_{y}}+w_{iy}&\\leq-\\overline{z_i}\\underline{T_{y}},\\ \\forall i = 1 \\dots N\\\\\\quad-\\underline{z_i}T_y-z_i\\overline{T_{y}}+w_{iy}&\\leq-\\underline{z_i}\\overline{T_{y}},\\ \\forall i = 1 \\dots N\\\\\\quad 0&\\leq z_i\\leq 1,\\ \\forall i = 1 \\dots N\n",
        "\\end{split}\n",
        "\\end{equation}\n",
        "Thus, the canonical form of the optimization problem is:\n",
        "\n",
        "\\begin{equation}\n",
        "\\begin{split}\n",
        "\\min_{\\mathbf{x}} &\\quad c^T\\mathbf{x} \\\\\n",
        "\\text{s.t.} \t&\\quad A_{ub}\\mathbf{x}\\leq b_{ub}\\\\&\\quad\\mathcal{l}\\leq\\mathbf{x}\\leq\\mathcal{u}\n",
        "\\end{split}\n",
        "\\end{equation}\n",
        "where \n",
        "$$\\mathbf{x}=[T_x,T_y,z_1,\\cdots,z_n,w_{1x},\\cdots,w_{nx},w_{1y},\\cdots,w_{ny}]^T$$\n",
        "$$l=[\\underline{T_x},\\underline{T_y},\\underline{z_1},\\cdots,\\underline{z_n},-\\infty,\\cdots,-\\infty]^T$$\n",
        "$$u=[\\overline{T_x},\\overline{T_y},\\overline{z_1},\\cdots\\overline{z_n},+\\infty,\\cdots,+\\infty]^T$$\n",
        "$$c=[0,0,-1,\\cdots,-1,0,\\cdots,0]^T$$\n",
        "$$A_{ub}=\\left [\n",
        "\\begin{matrix}\n",
        "A_1   \\\\\n",
        "\\vdots \\\\\n",
        "A_i \\\\\n",
        "\\vdots   \\\\\n",
        "A_n\n",
        "\\end{matrix}\\right], b_{ub}=\\left [\n",
        "\\begin{matrix}\n",
        "b_1   \\\\\n",
        "\\vdots \\\\\n",
        "b_i \\\\\n",
        "\\vdots   \\\\\n",
        "b_n\n",
        "\\end{matrix}\\right]$$\n",
        "where\n",
        "$$\n",
        "A_i = \\left [\n",
        "\\begin{matrix}\n",
        "\t0 & 0 &\t0 & \\dots & (x_{i} - x_{i}' - \\delta) & \\dots & 0\t\t& 0 & \\dots & 1 & \\dots & 0 \t& 0 & \\dots & 0 & \\dots & 0 \\\\\n",
        "\t0 & 0 &\t0 & \\dots & (-x_{i} + x_{i}' - \\delta) & \\dots & 0\t\t& 0 & \\dots & -1 & \\dots & 0 \t& 0 & \\dots & 0 & \\dots & 0 \\\\\n",
        "\t0 & 0 &\t0 & \\dots & (y_{i} - y_{i}' - \\delta) & \\dots & 0\t\t& 0 & \\dots & 0 & \\dots & 0 \t& 0 & \\dots & 1 & \\dots & 0 \\\\\n",
        "\t0 & 0 &\t0 & \\dots & (-y_{i} + y_{i}' - \\delta) & \\dots & 0\t\t& 0 & \\dots & 0 & \\dots & 0 \t& 0 & \\dots & -1 & \\dots & 0 \\\\\n",
        "\t\\underline{z_{i}} & 0 &\t0 & \\dots & \\underline{T_{x}} & \\dots & 0\t& 0 & \\dots & -1 & \\dots & 0 \t& 0 & \\dots & 0 & \\dots & 0 \\\\\n",
        "\t\\overline{z_{i}} & 0 &\t\t0 & \\dots & \\overline{T_{x}} & \\dots & 0\t\t& 0 & \\dots & -1 & \\dots & 0 \t& 0 & \\dots & 0 & \\dots & 0 \\\\\n",
        "\t-\\overline{z_{i}} & 0 &\t0 & \\dots & -\\underline{T_{x}} & \\dots & 0\t& 0 & \\dots & 1 & \\dots & 0 \t& 0 & \\dots & 0 & \\dots & 0 \\\\\n",
        "\t-\\underline{z_{i}} & 0 &\t0 & \\dots & -\\overline{T_{x}} & \\dots & 0\t\t& 0 & \\dots & 1 & \\dots & 0 \t& 0 & \\dots & 0 & \\dots & 0 \\\\\n",
        "\t0 & \\underline{z_{i}} & \t0 & \\dots & \\underline{T_{y}} & \\dots & 0\t& 0 & \\dots & 0 & \\dots & 0 \t& 0 & \\dots & -1 & \\dots & 0 \\\\\n",
        "\t0 & \\overline{z_{i}} & \t0 & \\dots & \\overline{T_{y}} & \\dots & 0\t\t& 0 & \\dots & 0 & \\dots & 0 \t& 0 & \\dots & -1 & \\dots & 0 \\\\\n",
        "\t0 & -\\overline{z_{i}} & \t0 & \\dots & -\\underline{T_{y}} & \\dots & 0\t& 0 & \\dots & 0 & \\dots & 0 \t& 0 & \\dots & 1 & \\dots & 0 \\\\\n",
        "\t0 & -\\underline{z_{i}} & \t0 & \\dots & -\\overline{T_{y}} & \\dots & 0\t\t& 0 & \\dots & 0 & \\dots & 0 \t& 0 & \\dots & 1 & \\dots & 0 \n",
        "\\end{matrix}\n",
        "\\right], b_i=\\left [\n",
        "\\begin{matrix}\n",
        "0 \\\\ 0 \\\\ 0 \\\\ 0 \\\\ \n",
        "\\underline{z_{i}}\\underline{T_{x}} \\\\\n",
        "\\overline{z_{i}} \\overline{T_{x}} \\\\\n",
        "-\\overline{z_{i}} \\underline{T_{x}} \\\\\n",
        "-\\underline{z_{i}} \\overline{T_{x}} \\\\\n",
        "\\underline{z_{i}}\\underline{T_{y}} \\\\\n",
        "\\overline{z_{i}} \\overline{T_{y}} \\\\\n",
        "-\\overline{z_{i}} \\underline{T_{y}} \\\\\n",
        "-\\underline{z_{i}} \\overline{T_{y}}\n",
        "\\end{matrix}\n",
        "\\right] \n",
        "$$"
      ]
    },
    {
      "cell_type": "code",
      "metadata": {
        "id": "dJZcDW_eLEnK"
      },
      "source": [
        "import numpy as np\n",
        "import cv2\n",
        "import scipy\n",
        "import scipy.io\n",
        "from scipy.optimize import linprog\n",
        "from math import floor, ceil\n",
        "import warnings"
      ],
      "execution_count": 1,
      "outputs": []
    },
    {
      "cell_type": "markdown",
      "metadata": {
        "id": "Aie-uq6-VWL6"
      },
      "source": [
        "The following code block creates a list that contains the lower and upper bounds of $\\Theta$, i.e. $\\underline{T_x}, \\overline{T_x}, \\underline{T_y}, \\overline{T_y}$ and its lower and upper cardinality bounds. The list is a class with the object properties *ThetaLowerBound* (i.e. $(\\underline{T_x}, \\underline{T_y})$), *ThetaUpperbound* (i.e. $(\\overline{T_x}, \\overline{T_y})$), *ObjLowerBound* (lower bound of the number of inliers), *ObjUpperBound* (upper bound of the number of inliers, “obj” stands for objective function), *ThetaOptimizer* (the model obtained by LP)."
      ]
    },
    {
      "cell_type": "code",
      "metadata": {
        "id": "cpyo5qGbHYeY"
      },
      "source": [
        "class problem_list(object):\n",
        "\n",
        "  def __init__(self, ThetaLowerBound, ThetaUpperBound, ObjLowerBound, ObjUpperBound, ThetaOptimizer):\n",
        " \n",
        "    self.ThetaLowerBound = ThetaLowerBound\n",
        "    self.ThetaUpperBound = ThetaUpperBound\n",
        "    self.ObjLowerBound = ObjLowerBound\n",
        "    self.ObjUpperBound = ObjUpperBound\n",
        "    self.ThetaOptimizer = ThetaOptimizer\n",
        "  \n",
        "  def add_new_problem(thetaLowerBound, thetaUpperBound):\n",
        "    \n",
        "    new_problem = problem_list(thetaLowerBound, thetaUpperBound, [], [], [])\n",
        "    \n",
        "    return new_problem"
      ],
      "execution_count": 2,
      "outputs": []
    },
    {
      "cell_type": "markdown",
      "metadata": {
        "id": "QGJ7fg0GiLU3"
      },
      "source": [
        "The function *solve_LP_and_test* takes four arguments: *left_points, right_points, problem_list* and *threshold* and returns *problem_list* with new *ObjUpperBound*, new *ObjLowerBound* and the corresponding *ThetaOptimizer*. The formulation of the linear programming problem is already discussed in section **A**. Notice that $\\underline{z_i}=0$ and $\\overline{z_i}=1$.\n",
        "\n",
        "The upper bound of the objective, i.e., the number of inliers, is obtained by sloving linear programming. Since we are minimizing $$c^T\\mathbf{x}=-z_1-\\cdots-zn$$ the number of inliers is the additive inverse of the objective function.\n",
        "\n",
        "The lower bound is obtained by test with the optimal $$\\Theta=(T_x,T_y)$$ obtained by the linear programming.\n"
      ]
    },
    {
      "cell_type": "code",
      "metadata": {
        "id": "a4xpOxUjhorJ"
      },
      "source": [
        "def solve_LP_and_test(left_points, right_points, problem_list, threshold=3):\n",
        "\n",
        "  # left_points: input left points\n",
        "  # right_points: input right points\n",
        "  # problem_list: input problem list\n",
        "  # threshold: inlier threshold, in this exercise: threshold = 3\n",
        "  \n",
        "  n = left_points.shape[0]\n",
        "\n",
        "  # x_x_prime_delta: x_i - x_i' - delta\n",
        "  # x_prime_x_delta: -x_i + x_i' - delta\n",
        "  x_x_prime_delta = left_points[:, 0 ] - right_points[:, 0] - threshold\n",
        "  x_prime_x_delta = -left_points[:, 0 ] + right_points[:, 0] - threshold\n",
        "  \n",
        "  # y_y_prime_delta: y_i - y_i' - delta\n",
        "  # y_prime_y_delta: -y_i + y_i' - delta\n",
        "  y_y_prime_delta = left_points[:, 1 ] - right_points[:, 1] - threshold\n",
        "  y_prime_y_delta = -left_points[:, 1 ] + right_points[:, 1] - threshold\n",
        "\n",
        "  a = np.concatenate((np.zeros((n,2)), np.diag(x_x_prime_delta), np.eye(n), np.zeros((n,n))), axis = 1)\n",
        "  c = np.concatenate((np.zeros((n,2)), np.diag(x_prime_x_delta), -np.eye(n), np.zeros((n,n))), axis = 1)\n",
        "  d = np.concatenate((np.zeros((n,2)), np.diag(y_y_prime_delta), np.zeros((n,n)), np.eye(n)), axis = 1)\n",
        "  e = np.concatenate((np.zeros((n,2)), np.diag(y_prime_y_delta), np.zeros((n,n)), -np.eye(n)), axis = 1)\n",
        "  \n",
        "  A1 = np.concatenate((a, c, d, e), axis = 0)\n",
        "  \n",
        "  b1 = np.zeros((4*n, 1))\n",
        "\n",
        "  Tx_lb = problem_list.ThetaLowerBound[0]\n",
        "  Tx_ub = problem_list.ThetaUpperBound[0]\n",
        "  Ty_lb = problem_list.ThetaLowerBound[1]\n",
        "  Ty_ub = problem_list.ThetaUpperBound[1]\n",
        "\n",
        "  # the upper bound of z_i is 1 and the lower bound is 0\n",
        "  f = np.concatenate((np.zeros((n,2)), Tx_lb * np.eye(n), -np.eye(n), np.zeros((n, n))), axis = 1)\n",
        "  g = np.concatenate((np.ones((n,1)), np.zeros((n,1)), Tx_ub * np.eye(n), -np.eye(n), np.zeros((n, n))), axis = 1)\n",
        "  h = np.concatenate((-np.ones((n,1)), np.zeros((n,1)), -Tx_lb * np.eye(n), np.eye(n), np.zeros((n, n))), axis = 1)\n",
        "  i = np.concatenate((np.zeros((n,2)), -Tx_ub * np.eye(n), np.eye(n), np.zeros((n, n))), axis = 1)\n",
        "\n",
        "  A2 = np.concatenate((f, g, h, i), axis = 0)\n",
        "\n",
        "  b2 = np.concatenate((np.zeros((n, 1)), Tx_ub * np.ones((n, 1)), -Tx_lb * np.ones((n, 1)), np.zeros((n, 1))), axis = 0)\n",
        "\n",
        "\n",
        "  j = np.concatenate((np.zeros((n,2)), Ty_lb * np.eye(n), np.zeros((n, n)), -np.eye(n)), axis = 1)\n",
        "  k = np.concatenate((np.zeros((n,1)), np.ones((n,1)), Ty_ub * np.eye(n), np.zeros((n, n)), -np.eye(n)), axis = 1)\n",
        "  l = np.concatenate((np.zeros((n,1)), -np.ones((n,1)), -Ty_lb * np.eye(n), np.zeros((n, n)), np.eye(n)), axis = 1)\n",
        "  m = np.concatenate((np.zeros((n,2)), -Ty_ub * np.eye(n), np.zeros((n, n)), np.eye(n)), axis = 1)\n",
        "  \n",
        "  A3 = np.concatenate((j, k, l, m), axis = 0)\n",
        "  b3 = np.concatenate((np.zeros((n, 1)), Ty_ub * np.ones((n, 1)), -Ty_lb * np.ones((n, 1)), np.zeros((n, 1))), axis = 0)  \n",
        "  \n",
        "  # A_ub\n",
        "  A = np.concatenate((A1, A2, A3), axis = 0)\n",
        "\n",
        "  # b_ub\n",
        "  b = np.concatenate((b1, b2, b3), axis = 0)\n",
        "  \n",
        "  # c\n",
        "  c = np.concatenate((np.zeros((1, 1)), np.zeros((1, 1)), -np.ones((n, 1)), np.zeros((2 * n, 1))), axis = 0)\n",
        "  \n",
        "  # add bounds\n",
        "  bounds = []\n",
        "  bounds.append((Tx_lb, Tx_ub))\n",
        "  bounds.append((Ty_lb, Ty_ub))\n",
        "\n",
        "  for i in range(n):\n",
        "    bounds.append((0, 1))\n",
        "  \n",
        "  for i in range(2*n):\n",
        "    bounds.append((None, None))\n",
        "  \n",
        "  # solve LP\n",
        "  res = linprog(c, A_ub=A, b_ub=b, bounds=bounds, method='revised simplex', options={'tol': 1e-8})\n",
        "\n",
        "  T_x = res.x[0]\n",
        "  T_y = res.x[1]\n",
        "\n",
        "  # objective upper bound, obtained by LP\n",
        "  n_inlier_ub = floor(-res.fun)\n",
        "  \n",
        "  x_left = left_points[:, 0]\n",
        "  y_left = left_points[:, 1]\n",
        "    \n",
        "  x_right = right_points[:, 0]\n",
        "  y_right = right_points[:, 1]\n",
        "    \n",
        "  inlier_mask = (np.abs(x_left + T_x - x_right) <= threshold) & (np.abs(y_left + T_y - y_right) <= threshold)\n",
        "  \n",
        "  # objective lower bound, obtained by testing with the Tx, Ty obtained by LP\n",
        "  n_inlier_lb = np.count_nonzero(inlier_mask)\n",
        "\n",
        "  problem_list.ThetaOptimizer = [T_x, T_y]\n",
        "  problem_list.ObjLowerBound = n_inlier_lb\n",
        "  problem_list.ObjUpperBound = n_inlier_ub\n",
        "\n",
        "  return problem_list"
      ],
      "execution_count": 3,
      "outputs": []
    },
    {
      "cell_type": "markdown",
      "metadata": {
        "id": "dmTGe2g0y857"
      },
      "source": [
        "The function *split_problem* splits the current space into two children subspaces in half along the longest dimension"
      ]
    },
    {
      "cell_type": "code",
      "metadata": {
        "id": "PWzpBQqcLIkb"
      },
      "source": [
        "def split_problem(best_candidate):\n",
        "  \n",
        "  Tx_lb = best_candidate.ThetaLowerBound[0];\n",
        "  Tx_ub = best_candidate.ThetaUpperBound[0];\n",
        "  Ty_lb = best_candidate.ThetaLowerBound[1];\n",
        "  Ty_ub = best_candidate.ThetaUpperBound[1];\n",
        "    \n",
        "  x_range = Tx_ub - Tx_lb;\n",
        "  y_range = Ty_ub - Ty_lb;\n",
        "\n",
        "  # if x_range is larger\n",
        "  if x_range > y_range:\n",
        "\n",
        "    mid = Tx_lb + x_range/2;\n",
        "        \n",
        "    left_child_problem = problem_list.add_new_problem([Tx_lb, Ty_lb], [floor(mid), Ty_ub])\n",
        "    right_child_problem = problem_list.add_new_problem([ceil(mid), Ty_lb], [Tx_ub, Ty_ub])\n",
        "  \n",
        "  # if y_range is larger\n",
        "  else:\n",
        "    mid = Ty_lb + y_range/2;\n",
        "        \n",
        "    left_child_problem = problem_list.add_new_problem([Tx_lb, Ty_lb], [Tx_ub, floor(mid)])\n",
        "    right_child_problem = problem_list.add_new_problem([Tx_lb, ceil(mid)], [Tx_ub, Ty_ub])\n",
        "  \n",
        "  return left_child_problem, right_child_problem"
      ],
      "execution_count": 4,
      "outputs": []
    },
    {
      "cell_type": "markdown",
      "metadata": {
        "id": "ovit3CD43Uem"
      },
      "source": [
        "The function *find_best_candidate* finds the best candidate problem between two problems. It first compare one's objective lower bound with another's. If one's objective lower bound is greater than another's lower bound, it is the best candidate problem and vice versa. If they are equal, then compare one's objective upper bound with another's. If one's objective upper bound is greater than or equal to another's upper bound, it is the best candidate problem and vice versa. "
      ]
    },
    {
      "cell_type": "code",
      "metadata": {
        "id": "W3aQ73kKOzSB"
      },
      "source": [
        "def find_best_candidate(problem_1, problem_2):\n",
        "\n",
        "  problem_1 = problem_1\n",
        "  problem_2 = problem_2\n",
        "    \n",
        "  if problem_1.ObjLowerBound > problem_2.ObjLowerBound:\n",
        "    better_problem = problem_1\n",
        "    worse_problem = problem_2\n",
        "\n",
        "  elif problem_1.ObjLowerBound == problem_2.ObjLowerBound:\n",
        "    \n",
        "    if problem_1.ObjUpperBound >= problem_2.ObjUpperBound:\n",
        "      better_problem = problem_1\n",
        "      worse_problem = problem_2\n",
        "\n",
        "    else:\n",
        "      better_problem = problem_2\n",
        "      worse_problem = problem_1\n",
        "    \n",
        "  else:\n",
        "    better_problem = problem_2\n",
        "    worse_problem = problem_1\n",
        "\n",
        "  return better_problem, worse_problem\n"
      ],
      "execution_count": 5,
      "outputs": []
    },
    {
      "cell_type": "markdown",
      "metadata": {
        "id": "_8Kchj9zCK6e"
      },
      "source": [
        "**B. The code implementing branch and bound for consensus set maximization with a 2D translation model**"
      ]
    },
    {
      "cell_type": "markdown",
      "metadata": {
        "id": "hLvPzdtQIIgT"
      },
      "source": [
        "The implementation of branch and bound algorithm uses depth first search(DFS) and stack data structure. \n",
        "\n",
        "**At first**, we define a node problem for DFS by initialzing the theta lower and upper bounds with the width and height of the image and implementing *solve_LP_and_test* function. Then we initialize the problem stack and push the node problem into the stack. After that we initialize the optimal bounds list to store the optimal objective bounds obtained so far.\n",
        "\n",
        "**While the stack is not empty**, we pop the first problem from the stack. First we compare the upper objective bound of this problem with the optimal object lower bound. \n",
        "\n",
        "\n",
        "\n",
        "*   If the upper objective bound of the problem is smaller than the optimal object lower bound, this problem can be safely removed without splitting because even in the best case it cannot contain a better solution. So we **continue to** pop the next problem from the stack.\n",
        "*  If the the upper objective bound of the problem is larger than\n",
        "the optimal object lower bound, we then compare the lower objective bound of the problem with the optimal objective lower bound. If the lower objective bound of the problem is greater than the optimal objective lower bound, we update the optimal bound and optimal solution with the objective bound and theta optimizer of the problem. **Next** we split the current problem space into two children problem subspaces and do branching. Whenever popping a candidate problem from the stack, we push its two children problem, which we solve with *solve_LP_and_test* function, into the stack. Then we find the best candidate problem between two children problems. We first push the worse child problem then the better child problem into the stack s.t. better child problem will be popped out first in the next iteration. This ensures that at each iteration the best candidate problem in the stack pops out first to reduce searching steps. \n",
        "\n",
        "The iterations stop when the lower and upper bound are nearer than 1, because they will lead to the same integer number of inliers. However, we still have to **continue to** check if the stack is empty. If not, we then need to check the remaining problems by continuing DFS. \n",
        "\n"
      ]
    },
    {
      "cell_type": "code",
      "metadata": {
        "id": "2fuetY9lMX95"
      },
      "source": [
        "warnings.filterwarnings('ignore')\n",
        "threshold = 3\n",
        "\n",
        "# read images\n",
        "left_image =  cv2.imread('InputLeftImage.png')\n",
        "right_image = cv2.imread('InputRightImage.png')\n",
        "\n",
        "img_left_h = left_image.shape[0]\n",
        "img_left_w = left_image.shape[1]\n",
        "img_right_h = right_image.shape[0]\n",
        "img_right_w = right_image.shape[1]\n",
        "\n",
        "# read input points\n",
        "data = scipy.io.loadmat('ListInputPoints.mat')\n",
        "input_points = np.array(data['ListInputPoints'])\n",
        "left_points = input_points[:, 0:2]\n",
        "right_points = input_points[:, 2:4]\n",
        "n = left_points.shape[0]\n",
        "\n",
        "# define node problem for DFS, initialzing the theta lower and upper bounds with the width and height of the image\n",
        "node_problem = problem_list.add_new_problem([-img_left_w, -img_left_h], [img_left_w, img_left_h])\n",
        "node_problem = solve_LP_and_test(left_points, right_points, node_problem, threshold)\n",
        "\n",
        "# creat problem stack\n",
        "stack = []\n",
        "# push the node problem to the problem stack\n",
        "stack.append(node_problem)\n",
        "\n",
        "\n",
        "optimal_bounds = [-np.inf, np.inf]\n",
        "optimal_solution = []\n",
        "optimal_history = []\n",
        "\n",
        "while len(stack) > 0:\n",
        "  \n",
        "  # pop the best candidate in the stack\n",
        "  parent_problem = stack.pop()\n",
        "  \n",
        "  # iterate and remove the spaces that definitely do not contain the optimal solution\n",
        "  # if the upper objective bound of the problem is smaller than the highest lower bound of the number of inliers obtained so far\n",
        "  # it can be safely removed, because even in the best case it cannot contain a better solution\n",
        "  # pop the problem without spliting\n",
        "  if parent_problem.ObjUpperBound < optimal_bounds[0]:\n",
        "    continue\n",
        "\n",
        "  # if the lower objective bound of the problem is greater than the optimal objective lower bound, update the optimal bound and optimal solution\n",
        "  if parent_problem.ObjLowerBound >= optimal_bounds[0]:\n",
        "    optimal_bounds = [parent_problem.ObjLowerBound, parent_problem.ObjUpperBound]\n",
        "    optimal_solution = parent_problem.ThetaOptimizer\n",
        "\n",
        "  # add the optimal bound to optimal history list for plotting \n",
        "  optimal_history.append(optimal_bounds)\n",
        "  \n",
        "  # the iterations stop when the lower and upper bound are nearer than 1, because they will lead to the same integer number of inliers \n",
        "  # still have to check if the stack is empty\n",
        "  # if the stack is not empty, then check the remaining problems by continuing DFS\n",
        "  if parent_problem.ObjUpperBound - parent_problem.ObjLowerBound < 1:\n",
        "    continue\n",
        "  \n",
        "  # split the current space into two children subspaces and branching\n",
        "  left_child_problem, right_child_problem = split_problem(parent_problem)\n",
        "  \n",
        "  # solve children problems \n",
        "  left_child_problem = solve_LP_and_test(left_points, right_points, left_child_problem, threshold)\n",
        "  right_child_problem = solve_LP_and_test(left_points, right_points, right_child_problem, threshold)\n",
        "  \n",
        "\n",
        "  better_problem, worse_problem = find_best_candidate(left_child_problem, right_child_problem)\n",
        "  \n",
        "  # when taking the best candidate by poping it from the stack, pushing its two children into the stack\n",
        "  # first push the worse child problem then the better child problem into the stack s.t. DFS\n",
        "  # better child problem will be popped out first in the next iteration \n",
        "  stack.append(worse_problem)\n",
        "  stack.append(better_problem)\n"
      ],
      "execution_count": 6,
      "outputs": []
    },
    {
      "cell_type": "markdown",
      "metadata": {
        "id": "vUUVFp7ECb0b"
      },
      "source": [
        "**C. The results of the translation model, and the indices of the inliers and outliers obtained by branch and bound**"
      ]
    },
    {
      "cell_type": "code",
      "metadata": {
        "colab": {
          "base_uri": "https://localhost:8080/"
        },
        "id": "WVB9ZpY4ECgM",
        "outputId": "996f5067-06f8-49c2-b16f-91af91204fc2"
      },
      "source": [
        "T_x = optimal_solution[0]\n",
        "T_y = optimal_solution[1]\n",
        "print('------ The results of the translational model ------')\n",
        "print('Tx: ', T_x)\n",
        "print('Ty: ', T_y)\n",
        "print('optimal cardinality lower bound: ', optimal_bounds[0])\n",
        "print('optimal cardinality upper bound: ', optimal_bounds[1])\n",
        "\n",
        "\n",
        "x_left = left_points [:, 0]\n",
        "y_left = left_points [:, 1]\n",
        "    \n",
        "x_right = right_points [:, 0]\n",
        "y_right = right_points [:, 1]\n",
        "    \n",
        "inlier_mask = (abs(x_left + T_x - x_right) <= threshold) & (abs(y_left + T_y - y_right) <= threshold)\n",
        "outlier_mask = np.logical_not(inlier_mask)\n",
        "inlier_index_list = []\n",
        "outlier_index_list = []\n",
        "for i in range(inlier_mask.shape[0]):\n",
        "  if inlier_mask[i] == True:\n",
        "    inlier_index_list.append(i+1)\n",
        "  else:\n",
        "    outlier_index_list.append(i+1)\n",
        "\n",
        "print('----------- The indices of inliers ------------------')\n",
        "print(inlier_index_list)\n",
        "print('----------- The indices of outliers -----------------')\n",
        "print(outlier_index_list)\n"
      ],
      "execution_count": 7,
      "outputs": [
        {
          "output_type": "stream",
          "text": [
            "------ The results of the translational model ------\n",
            "Tx:  -232.0\n",
            "Ty:  -154.00000000000003\n",
            "optimal cardinality lower bound:  15\n",
            "optimal cardinality upper bound:  15\n",
            "----------- The indices of inliers ------------------\n",
            "[3, 8, 9, 15, 16, 20, 26, 31, 32, 34, 35, 40, 42, 45, 51]\n",
            "----------- The indices of outliers -----------------\n",
            "[1, 2, 4, 5, 6, 7, 10, 11, 12, 13, 14, 17, 18, 19, 21, 22, 23, 24, 25, 27, 28, 29, 30, 33, 36, 37, 38, 39, 41, 43, 44, 46, 47, 48, 49, 50, 52, 53, 54, 55]\n"
          ],
          "name": "stdout"
        }
      ]
    },
    {
      "cell_type": "markdown",
      "metadata": {
        "id": "99k4660_iZFr"
      },
      "source": [
        "**Results:**\n",
        "\n",
        "For inlier threshold of 3, the optimal translational model found is:$$\\Theta=(T_x,T_y)=(-232,-154)$$\n",
        "\n",
        "The optimal cardinality is 15. Thus, the **number of inliers** is 15.\n",
        "\n",
        "With this translational model, the **inlier indices** are:$$3, 8, 9, 15, 16, 20, 26, 31, 32, 34, 35, 40, 42, 45, 51$$ and the corresponding **outlier indices** are:$$1, 2, 4, 5, 6, 7, 10, 11, 12, 13, 14, 17, 18, 19, 21, 22, 23, 24, 25, 27, 28$$$$29, 30, 33, 36, 37, 38, 39, 41, 43, 44, 46, 47, 48, 49, 50, 52, 53, 54, 55$$\n",
        "\n"
      ]
    },
    {
      "cell_type": "markdown",
      "metadata": {
        "id": "jxpL6zo_HlJd"
      },
      "source": [
        "**D. A figure showing the identified inlier and outlier correspondences**"
      ]
    },
    {
      "cell_type": "code",
      "metadata": {
        "colab": {
          "base_uri": "https://localhost:8080/"
        },
        "id": "tt1mlkbMHlwJ",
        "outputId": "62ab8d3a-1f91-48d0-e22a-f80bc05d64b0"
      },
      "source": [
        "inliers_left = left_points[inlier_mask, :]\n",
        "inliers_right = right_points[inlier_mask, :]\n",
        "outliers_left = left_points[outlier_mask, :]\n",
        "outliers_right = right_points[outlier_mask, :]\n",
        "\n",
        "img1 =  cv2.imread('InputLeftImage.png')\n",
        "img2 = cv2.imread('InputRightImage.png')\n",
        "\n",
        "h1 = img1.shape[0]\n",
        "w1 = img1.shape[1]\n",
        "\n",
        "h2 = img2.shape[0]\n",
        "w2= img2.shape[1]\n",
        "\n",
        "view = np.zeros((max(h1, h2), w1 + w2, 3), np.uint8)\n",
        "view[:h1, :w1, :] = img1  \n",
        "view[:h2, w1:, :] = img2\n",
        "view[:, :, 1] = view[:, :, 0]  \n",
        "view[:, :, 2] = view[:, :, 0]\n",
        "\n",
        "for i in range(x_left.shape[0]):\n",
        "    # draw the keypoints\n",
        "    cv2.line(view, (int(x_left[i]), int(y_left[i])) , (int(x_right[i] + w1), int(y_right[i])), (255, 0, 0), 1)\n",
        "\n",
        "cv2.imwrite('original_correspondence.png', view)\n",
        "\n",
        "view1 = np.zeros((max(h1, h2), w1 + w2, 3), np.uint8)\n",
        "view1[:h1, :w1, :] = img1  \n",
        "view1[:h2, w1:, :] = img2\n",
        "view1[:, :, 1] = view[:, :, 0]  \n",
        "view1[:, :, 2] = view[:, :, 0]\n",
        "\n",
        "x_inliers_left = inliers_left[:, 0]\n",
        "y_inliers_left = inliers_left[:, 1]\n",
        "x_inliers_right = inliers_right[:, 0]\n",
        "y_inliers_right = inliers_right[:, 1]\n",
        "\n",
        "for i in range(x_inliers_left.shape[0]):\n",
        "    # draw the keypoints\n",
        "    cv2.line(view1, (int(x_inliers_left[i]), int(y_inliers_left[i])) , (int(x_inliers_right[i] + w1), int(y_inliers_right[i])), (0, 255, 0), 1)\n",
        "\n",
        "x_outliers_left = outliers_left[:, 0]\n",
        "y_outliers_left = outliers_left[:, 1]\n",
        "x_outliers_right = outliers_right[:, 0]\n",
        "y_outliers_right = outliers_right[:, 1]\n",
        "\n",
        "for i in range(x_outliers_left.shape[0]):\n",
        "  cv2.line(view1, (int(x_outliers_left[i]), int(y_outliers_left[i])) , (int(x_outliers_right[i] + w1), int(y_outliers_right[i])), (0, 0, 255), 1)\n",
        "\n",
        "\n",
        "cv2.imwrite('corrected_correspondence.png', view1)\n"
      ],
      "execution_count": 8,
      "outputs": [
        {
          "output_type": "execute_result",
          "data": {
            "text/plain": [
              "True"
            ]
          },
          "metadata": {
            "tags": []
          },
          "execution_count": 8
        }
      ]
    },
    {
      "cell_type": "markdown",
      "metadata": {
        "id": "fWnfc7KgaC2l"
      },
      "source": [
        "The figure above shows the original correspondence and the figure below show the identified inlier and outlier correspondences.\n",
        "![](https://drive.google.com/uc?export=view&id=1v_jqnovO5nRyCeQyby4r8MXQBVeYj2id)\n",
        "\n",
        "![](https://drive.google.com/uc?export=view&id=1n0beE0RWUFaxGoSMJHPioGqwE3V7Y7i3)"
      ]
    },
    {
      "cell_type": "markdown",
      "metadata": {
        "id": "7hAR9bTlHd-4"
      },
      "source": [
        "**E. A figure showing the convergence of the cardinality bounds**"
      ]
    },
    {
      "cell_type": "code",
      "metadata": {
        "colab": {
          "base_uri": "https://localhost:8080/",
          "height": 279
        },
        "id": "KEQEEsoRHpmp",
        "outputId": "685ee351-db69-4289-c849-3dc06b4dc0f5"
      },
      "source": [
        "import matplotlib.pyplot as plt\n",
        "\n",
        "ubs = []\n",
        "lbs = []\n",
        "x = []\n",
        "\n",
        "for i in range(len(optimal_history)):\n",
        "  x.append(i)\n",
        "  lbs.append(optimal_history[i][0])\n",
        "  ubs.append(optimal_history[i][1])\n",
        "\n",
        "l1=plt.plot(x,ubs,'r--',label='upper bound')\n",
        "l2=plt.plot(x,lbs,'g--',label='lower bound')\n",
        "plt.plot(x,ubs,'ro-',x,lbs,'g+-')\n",
        "plt.xlabel('iterations')\n",
        "plt.ylabel('upper/lower bound')\n",
        "plt.legend()\n",
        "plt.show()\n"
      ],
      "execution_count": 9,
      "outputs": [
        {
          "output_type": "display_data",
          "data": {
            "image/png": "[encoded data removed]",
            "text/plain": [
              "<Figure size 432x288 with 1 Axes>"
            ]
          },
          "metadata": {
            "tags": [],
            "needs_background": "light"
          }
        }
      ]
    },
    {
      "cell_type": "markdown",
      "metadata": {
        "id": "IZL3xriLa5V0"
      },
      "source": [
        "The following figure shows the convergence of the cardinality bounds.\n",
        "\n",
        "![](https://drive.google.com/uc?export=view&id=1QY5XOYrMn_8fIUjl1pswuYUNKDwAX1RW)"
      ]
    }
  ]
}